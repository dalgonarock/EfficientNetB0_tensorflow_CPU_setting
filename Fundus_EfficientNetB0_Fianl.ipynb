{
 "cells": [
  {
   "cell_type": "markdown",
   "metadata": {
    "id": "q7r2o2tFgzsO"
   },
   "source": [
    "# **Importing necessary libraries**"
   ]
  },
  {
   "cell_type": "code",
   "execution_count": 22,
   "metadata": {
    "collapsed": true,
    "jupyter": {
     "outputs_hidden": true
    },
    "scrolled": true
   },
   "outputs": [
    {
     "name": "stdout",
     "output_type": "stream",
     "text": [
      "Requirement already satisfied: tensorflow in c:\\users\\user\\miniconda3\\lib\\site-packages (2.20.0)\n",
      "Requirement already satisfied: absl-py>=1.0.0 in c:\\users\\user\\miniconda3\\lib\\site-packages (from tensorflow) (2.3.1)\n",
      "Requirement already satisfied: astunparse>=1.6.0 in c:\\users\\user\\miniconda3\\lib\\site-packages (from tensorflow) (1.6.3)\n",
      "Requirement already satisfied: flatbuffers>=24.3.25 in c:\\users\\user\\miniconda3\\lib\\site-packages (from tensorflow) (25.2.10)\n",
      "Requirement already satisfied: gast!=0.5.0,!=0.5.1,!=0.5.2,>=0.2.1 in c:\\users\\user\\miniconda3\\lib\\site-packages (from tensorflow) (0.6.0)\n",
      "Requirement already satisfied: google_pasta>=0.1.1 in c:\\users\\user\\miniconda3\\lib\\site-packages (from tensorflow) (0.2.0)\n",
      "Requirement already satisfied: libclang>=13.0.0 in c:\\users\\user\\miniconda3\\lib\\site-packages (from tensorflow) (18.1.1)\n",
      "Requirement already satisfied: opt_einsum>=2.3.2 in c:\\users\\user\\miniconda3\\lib\\site-packages (from tensorflow) (3.4.0)\n",
      "Requirement already satisfied: packaging in c:\\users\\user\\miniconda3\\lib\\site-packages (from tensorflow) (25.0)\n",
      "Requirement already satisfied: protobuf>=5.28.0 in c:\\users\\user\\miniconda3\\lib\\site-packages (from tensorflow) (6.32.1)\n",
      "Requirement already satisfied: requests<3,>=2.21.0 in c:\\users\\user\\miniconda3\\lib\\site-packages (from tensorflow) (2.32.4)\n",
      "Requirement already satisfied: setuptools in c:\\users\\user\\miniconda3\\lib\\site-packages (from tensorflow) (78.1.1)\n",
      "Requirement already satisfied: six>=1.12.0 in c:\\users\\user\\miniconda3\\lib\\site-packages (from tensorflow) (1.17.0)\n",
      "Requirement already satisfied: termcolor>=1.1.0 in c:\\users\\user\\miniconda3\\lib\\site-packages (from tensorflow) (3.1.0)\n",
      "Requirement already satisfied: typing_extensions>=3.6.6 in c:\\users\\user\\miniconda3\\lib\\site-packages (from tensorflow) (4.12.2)\n",
      "Requirement already satisfied: wrapt>=1.11.0 in c:\\users\\user\\miniconda3\\lib\\site-packages (from tensorflow) (1.17.3)\n",
      "Requirement already satisfied: grpcio<2.0,>=1.24.3 in c:\\users\\user\\miniconda3\\lib\\site-packages (from tensorflow) (1.75.0)\n",
      "Requirement already satisfied: tensorboard~=2.20.0 in c:\\users\\user\\miniconda3\\lib\\site-packages (from tensorflow) (2.20.0)\n",
      "Requirement already satisfied: keras>=3.10.0 in c:\\users\\user\\miniconda3\\lib\\site-packages (from tensorflow) (3.11.3)\n",
      "Requirement already satisfied: numpy>=1.26.0 in c:\\users\\user\\miniconda3\\lib\\site-packages (from tensorflow) (2.2.6)\n",
      "Requirement already satisfied: h5py>=3.11.0 in c:\\users\\user\\miniconda3\\lib\\site-packages (from tensorflow) (3.14.0)\n",
      "Requirement already satisfied: ml_dtypes<1.0.0,>=0.5.1 in c:\\users\\user\\miniconda3\\lib\\site-packages (from tensorflow) (0.5.3)\n",
      "Requirement already satisfied: charset_normalizer<4,>=2 in c:\\users\\user\\miniconda3\\lib\\site-packages (from requests<3,>=2.21.0->tensorflow) (3.3.2)\n",
      "Requirement already satisfied: idna<4,>=2.5 in c:\\users\\user\\miniconda3\\lib\\site-packages (from requests<3,>=2.21.0->tensorflow) (3.7)\n",
      "Requirement already satisfied: urllib3<3,>=1.21.1 in c:\\users\\user\\miniconda3\\lib\\site-packages (from requests<3,>=2.21.0->tensorflow) (2.5.0)\n",
      "Requirement already satisfied: certifi>=2017.4.17 in c:\\users\\user\\miniconda3\\lib\\site-packages (from requests<3,>=2.21.0->tensorflow) (2025.8.3)\n",
      "Requirement already satisfied: markdown>=2.6.8 in c:\\users\\user\\miniconda3\\lib\\site-packages (from tensorboard~=2.20.0->tensorflow) (3.9)\n",
      "Requirement already satisfied: pillow in c:\\users\\user\\miniconda3\\lib\\site-packages (from tensorboard~=2.20.0->tensorflow) (11.3.0)\n",
      "Requirement already satisfied: tensorboard-data-server<0.8.0,>=0.7.0 in c:\\users\\user\\miniconda3\\lib\\site-packages (from tensorboard~=2.20.0->tensorflow) (0.7.2)\n",
      "Requirement already satisfied: werkzeug>=1.0.1 in c:\\users\\user\\miniconda3\\lib\\site-packages (from tensorboard~=2.20.0->tensorflow) (3.1.3)\n",
      "Requirement already satisfied: wheel<1.0,>=0.23.0 in c:\\users\\user\\miniconda3\\lib\\site-packages (from astunparse>=1.6.0->tensorflow) (0.45.1)\n",
      "Requirement already satisfied: rich in c:\\users\\user\\miniconda3\\lib\\site-packages (from keras>=3.10.0->tensorflow) (13.9.4)\n",
      "Requirement already satisfied: namex in c:\\users\\user\\miniconda3\\lib\\site-packages (from keras>=3.10.0->tensorflow) (0.1.0)\n",
      "Requirement already satisfied: optree in c:\\users\\user\\miniconda3\\lib\\site-packages (from keras>=3.10.0->tensorflow) (0.17.0)\n",
      "Requirement already satisfied: MarkupSafe>=2.1.1 in c:\\users\\user\\miniconda3\\lib\\site-packages (from werkzeug>=1.0.1->tensorboard~=2.20.0->tensorflow) (3.0.2)\n",
      "Requirement already satisfied: markdown-it-py>=2.2.0 in c:\\users\\user\\miniconda3\\lib\\site-packages (from rich->keras>=3.10.0->tensorflow) (2.2.0)\n",
      "Requirement already satisfied: pygments<3.0.0,>=2.13.0 in c:\\users\\user\\miniconda3\\lib\\site-packages (from rich->keras>=3.10.0->tensorflow) (2.19.1)\n",
      "Requirement already satisfied: mdurl~=0.1 in c:\\users\\user\\miniconda3\\lib\\site-packages (from markdown-it-py>=2.2.0->rich->keras>=3.10.0->tensorflow) (0.1.0)\n"
     ]
    }
   ],
   "source": [
    "!pip install tensorflow"
   ]
  },
  {
   "cell_type": "code",
   "execution_count": 4,
   "metadata": {
    "collapsed": true,
    "jupyter": {
     "outputs_hidden": true
    },
    "scrolled": true
   },
   "outputs": [
    {
     "name": "stdout",
     "output_type": "stream",
     "text": [
      "Collecting scikit-learn\n",
      "  Downloading scikit_learn-1.7.2-cp313-cp313-win_amd64.whl.metadata (11 kB)\n",
      "Requirement already satisfied: numpy>=1.22.0 in c:\\users\\user\\miniconda3\\lib\\site-packages (from scikit-learn) (2.3.3)\n",
      "Collecting scipy>=1.8.0 (from scikit-learn)\n",
      "  Downloading scipy-1.16.2-cp313-cp313-win_amd64.whl.metadata (60 kB)\n",
      "Collecting joblib>=1.2.0 (from scikit-learn)\n",
      "  Using cached joblib-1.5.2-py3-none-any.whl.metadata (5.6 kB)\n",
      "Collecting threadpoolctl>=3.1.0 (from scikit-learn)\n",
      "  Using cached threadpoolctl-3.6.0-py3-none-any.whl.metadata (13 kB)\n",
      "Downloading scikit_learn-1.7.2-cp313-cp313-win_amd64.whl (8.7 MB)\n",
      "   ---------------------------------------- 0.0/8.7 MB ? eta -:--:--\n",
      "   ---------------- ----------------------- 3.7/8.7 MB 20.6 MB/s eta 0:00:01\n",
      "   ---------------------------------------- 8.7/8.7 MB 31.5 MB/s eta 0:00:00\n",
      "Using cached joblib-1.5.2-py3-none-any.whl (308 kB)\n",
      "Downloading scipy-1.16.2-cp313-cp313-win_amd64.whl (38.5 MB)\n",
      "   ---------------------------------------- 0.0/38.5 MB ? eta -:--:--\n",
      "   ---------- ----------------------------- 10.5/38.5 MB 62.2 MB/s eta 0:00:01\n",
      "   ----------- ---------------------------- 11.3/38.5 MB 28.0 MB/s eta 0:00:01\n",
      "   ------------- -------------------------- 12.8/38.5 MB 22.6 MB/s eta 0:00:02\n",
      "   ------------------ --------------------- 17.6/38.5 MB 20.7 MB/s eta 0:00:02\n",
      "   --------------------- ------------------ 20.7/38.5 MB 19.7 MB/s eta 0:00:01\n",
      "   ----------------------------------- ---- 34.1/38.5 MB 26.7 MB/s eta 0:00:01\n",
      "   -------------------------------------- - 37.0/38.5 MB 25.9 MB/s eta 0:00:01\n",
      "   ---------------------------------------- 38.5/38.5 MB 23.6 MB/s eta 0:00:00\n",
      "Using cached threadpoolctl-3.6.0-py3-none-any.whl (18 kB)\n",
      "Installing collected packages: threadpoolctl, scipy, joblib, scikit-learn\n",
      "\n",
      "   ---------- ----------------------------- 1/4 [scipy]\n",
      "   ---------- ----------------------------- 1/4 [scipy]\n",
      "   ---------- ----------------------------- 1/4 [scipy]\n",
      "   ---------- ----------------------------- 1/4 [scipy]\n",
      "   ---------- ----------------------------- 1/4 [scipy]\n",
      "   ---------- ----------------------------- 1/4 [scipy]\n",
      "   ---------- ----------------------------- 1/4 [scipy]\n",
      "   ---------- ----------------------------- 1/4 [scipy]\n",
      "   ---------- ----------------------------- 1/4 [scipy]\n",
      "   ---------- ----------------------------- 1/4 [scipy]\n",
      "   ---------- ----------------------------- 1/4 [scipy]\n",
      "   ---------- ----------------------------- 1/4 [scipy]\n",
      "   ---------- ----------------------------- 1/4 [scipy]\n",
      "   ---------- ----------------------------- 1/4 [scipy]\n",
      "   ---------- ----------------------------- 1/4 [scipy]\n",
      "   ---------- ----------------------------- 1/4 [scipy]\n",
      "   ---------- ----------------------------- 1/4 [scipy]\n",
      "   ---------- ----------------------------- 1/4 [scipy]\n",
      "   ---------- ----------------------------- 1/4 [scipy]\n",
      "   ---------- ----------------------------- 1/4 [scipy]\n",
      "   ---------- ----------------------------- 1/4 [scipy]\n",
      "   ---------- ----------------------------- 1/4 [scipy]\n",
      "   ---------- ----------------------------- 1/4 [scipy]\n",
      "   ---------- ----------------------------- 1/4 [scipy]\n",
      "   ---------- ----------------------------- 1/4 [scipy]\n",
      "   ---------- ----------------------------- 1/4 [scipy]\n",
      "   ---------- ----------------------------- 1/4 [scipy]\n",
      "   ---------- ----------------------------- 1/4 [scipy]\n",
      "   ---------- ----------------------------- 1/4 [scipy]\n",
      "   ---------- ----------------------------- 1/4 [scipy]\n",
      "   -------------------- ------------------- 2/4 [joblib]\n",
      "   ------------------------------ --------- 3/4 [scikit-learn]\n",
      "   ------------------------------ --------- 3/4 [scikit-learn]\n",
      "   ------------------------------ --------- 3/4 [scikit-learn]\n",
      "   ------------------------------ --------- 3/4 [scikit-learn]\n",
      "   ------------------------------ --------- 3/4 [scikit-learn]\n",
      "   ------------------------------ --------- 3/4 [scikit-learn]\n",
      "   ------------------------------ --------- 3/4 [scikit-learn]\n",
      "   ------------------------------ --------- 3/4 [scikit-learn]\n",
      "   ------------------------------ --------- 3/4 [scikit-learn]\n",
      "   ------------------------------ --------- 3/4 [scikit-learn]\n",
      "   ------------------------------ --------- 3/4 [scikit-learn]\n",
      "   ------------------------------ --------- 3/4 [scikit-learn]\n",
      "   ------------------------------ --------- 3/4 [scikit-learn]\n",
      "   ------------------------------ --------- 3/4 [scikit-learn]\n",
      "   ------------------------------ --------- 3/4 [scikit-learn]\n",
      "   ------------------------------ --------- 3/4 [scikit-learn]\n",
      "   ------------------------------ --------- 3/4 [scikit-learn]\n",
      "   ---------------------------------------- 4/4 [scikit-learn]\n",
      "\n",
      "Successfully installed joblib-1.5.2 scikit-learn-1.7.2 scipy-1.16.2 threadpoolctl-3.6.0\n"
     ]
    }
   ],
   "source": [
    "!pip install scikit-learn"
   ]
  },
  {
   "cell_type": "code",
   "execution_count": 6,
   "metadata": {
    "collapsed": true,
    "jupyter": {
     "outputs_hidden": true
    }
   },
   "outputs": [
    {
     "name": "stdout",
     "output_type": "stream",
     "text": [
      "Collecting opencv-python\n",
      "  Using cached opencv_python-4.12.0.88-cp37-abi3-win_amd64.whl.metadata (19 kB)\n",
      "Collecting numpy<2.3.0,>=2 (from opencv-python)\n",
      "  Downloading numpy-2.2.6-cp313-cp313-win_amd64.whl.metadata (60 kB)\n",
      "Using cached opencv_python-4.12.0.88-cp37-abi3-win_amd64.whl (39.0 MB)\n",
      "Downloading numpy-2.2.6-cp313-cp313-win_amd64.whl (12.6 MB)\n",
      "   ---------------------------------------- 0.0/12.6 MB ? eta -:--:--\n",
      "   ------------------- -------------------- 6.3/12.6 MB 36.0 MB/s eta 0:00:01\n",
      "   ---------------------- ----------------- 7.1/12.6 MB 17.9 MB/s eta 0:00:01\n",
      "   ---------------------------------------- 12.6/12.6 MB 23.5 MB/s eta 0:00:00\n",
      "Installing collected packages: numpy, opencv-python\n",
      "\n",
      "  Attempting uninstall: numpy\n",
      "\n",
      "    Found existing installation: numpy 2.3.3\n",
      "\n",
      "    Uninstalling numpy-2.3.3:\n",
      "\n",
      "      Successfully uninstalled numpy-2.3.3\n",
      "\n",
      "   ---------------------------------------- 0/2 [numpy]\n",
      "   ---------------------------------------- 0/2 [numpy]\n",
      "   ---------------------------------------- 0/2 [numpy]\n",
      "   ---------------------------------------- 0/2 [numpy]\n",
      "   ---------------------------------------- 0/2 [numpy]\n",
      "   ---------------------------------------- 0/2 [numpy]\n",
      "   ---------------------------------------- 0/2 [numpy]\n",
      "   ---------------------------------------- 0/2 [numpy]\n",
      "   ---------------------------------------- 0/2 [numpy]\n",
      "   ---------------------------------------- 0/2 [numpy]\n",
      "   ---------------------------------------- 0/2 [numpy]\n",
      "   ---------------------------------------- 0/2 [numpy]\n",
      "   ---------------------------------------- 0/2 [numpy]\n",
      "   ---------------------------------------- 0/2 [numpy]\n",
      "   ---------------------------------------- 0/2 [numpy]\n",
      "   ---------------------------------------- 0/2 [numpy]\n",
      "   ---------------------------------------- 0/2 [numpy]\n",
      "   ---------------------------------------- 0/2 [numpy]\n",
      "   ---------------------------------------- 0/2 [numpy]\n",
      "   ---------------------------------------- 0/2 [numpy]\n",
      "   ---------------------------------------- 0/2 [numpy]\n",
      "   ---------------------------------------- 0/2 [numpy]\n",
      "   ---------------------------------------- 0/2 [numpy]\n",
      "   ---------------------------------------- 0/2 [numpy]\n",
      "   ---------------------------------------- 0/2 [numpy]\n",
      "   ---------------------------------------- 0/2 [numpy]\n",
      "   ---------------------------------------- 0/2 [numpy]\n",
      "   ---------------------------------------- 0/2 [numpy]\n",
      "   ---------------------------------------- 0/2 [numpy]\n",
      "   ---------------------------------------- 0/2 [numpy]\n",
      "   ---------------------------------------- 0/2 [numpy]\n",
      "   ---------------------------------------- 0/2 [numpy]\n",
      "   ---------------------------------------- 0/2 [numpy]\n",
      "   ---------------------------------------- 0/2 [numpy]\n",
      "   ---------------------------------------- 0/2 [numpy]\n",
      "   ---------------------------------------- 0/2 [numpy]\n",
      "   ---------------------------------------- 0/2 [numpy]\n",
      "   ---------------------------------------- 0/2 [numpy]\n",
      "   ---------------------------------------- 0/2 [numpy]\n",
      "   ---------------------------------------- 0/2 [numpy]\n",
      "   ---------------------------------------- 0/2 [numpy]\n",
      "   ---------------------------------------- 0/2 [numpy]\n",
      "   ---------------------------------------- 0/2 [numpy]\n",
      "   ---------------------------------------- 0/2 [numpy]\n",
      "   ---------------------------------------- 0/2 [numpy]\n",
      "   ---------------------------------------- 0/2 [numpy]\n",
      "   ---------------------------------------- 0/2 [numpy]\n",
      "   ---------------------------------------- 0/2 [numpy]\n",
      "   ---------------------------------------- 0/2 [numpy]\n",
      "   ---------------------------------------- 0/2 [numpy]\n",
      "   ---------------------------------------- 0/2 [numpy]\n",
      "   ---------------------------------------- 0/2 [numpy]\n",
      "   ---------------------------------------- 0/2 [numpy]\n",
      "   -------------------- ------------------- 1/2 [opencv-python]\n",
      "   -------------------- ------------------- 1/2 [opencv-python]\n",
      "   -------------------- ------------------- 1/2 [opencv-python]\n",
      "   -------------------- ------------------- 1/2 [opencv-python]\n",
      "   -------------------- ------------------- 1/2 [opencv-python]\n",
      "   ---------------------------------------- 2/2 [opencv-python]\n",
      "\n",
      "Successfully installed numpy-2.2.6 opencv-python-4.12.0.88\n"
     ]
    },
    {
     "name": "stderr",
     "output_type": "stream",
     "text": [
      "  WARNING: Failed to remove contents in a temporary directory 'C:\\Users\\User\\miniconda3\\Lib\\site-packages\\~umpy.libs'.\n",
      "  You can safely remove it manually.\n",
      "  WARNING: Failed to remove contents in a temporary directory 'C:\\Users\\User\\miniconda3\\Lib\\site-packages\\~umpy'.\n",
      "  You can safely remove it manually.\n"
     ]
    }
   ],
   "source": [
    "!pip install opencv-python"
   ]
  },
  {
   "cell_type": "code",
   "execution_count": 11,
   "metadata": {
    "collapsed": true,
    "jupyter": {
     "outputs_hidden": true
    },
    "scrolled": true
   },
   "outputs": [
    {
     "name": "stdout",
     "output_type": "stream",
     "text": [
      "Collecting pandas\n",
      "  Downloading pandas-2.3.2-cp313-cp313-win_amd64.whl.metadata (19 kB)\n",
      "Requirement already satisfied: numpy>=1.26.0 in c:\\users\\user\\miniconda3\\lib\\site-packages (from pandas) (2.2.6)\n",
      "Requirement already satisfied: python-dateutil>=2.8.2 in c:\\users\\user\\miniconda3\\lib\\site-packages (from pandas) (2.9.0.post0)\n",
      "Collecting pytz>=2020.1 (from pandas)\n",
      "  Using cached pytz-2025.2-py2.py3-none-any.whl.metadata (22 kB)\n",
      "Collecting tzdata>=2022.7 (from pandas)\n",
      "  Using cached tzdata-2025.2-py2.py3-none-any.whl.metadata (1.4 kB)\n",
      "Requirement already satisfied: six>=1.5 in c:\\users\\user\\miniconda3\\lib\\site-packages (from python-dateutil>=2.8.2->pandas) (1.17.0)\n",
      "Downloading pandas-2.3.2-cp313-cp313-win_amd64.whl (11.0 MB)\n",
      "   ---------------------------------------- 0.0/11.0 MB ? eta -:--:--\n",
      "   ---------- ----------------------------- 2.9/11.0 MB 15.1 MB/s eta 0:00:01\n",
      "   ---------------------------------------- 11.0/11.0 MB 31.0 MB/s eta 0:00:00\n",
      "Using cached pytz-2025.2-py2.py3-none-any.whl (509 kB)\n",
      "Using cached tzdata-2025.2-py2.py3-none-any.whl (347 kB)\n",
      "Installing collected packages: pytz, tzdata, pandas\n",
      "\n",
      "   ---------------------------------------- 0/3 [pytz]\n",
      "   ---------------------------------------- 0/3 [pytz]\n",
      "   ------------- -------------------------- 1/3 [tzdata]\n",
      "   ------------- -------------------------- 1/3 [tzdata]\n",
      "   -------------------------- ------------- 2/3 [pandas]\n",
      "   -------------------------- ------------- 2/3 [pandas]\n",
      "   -------------------------- ------------- 2/3 [pandas]\n",
      "   -------------------------- ------------- 2/3 [pandas]\n",
      "   -------------------------- ------------- 2/3 [pandas]\n",
      "   -------------------------- ------------- 2/3 [pandas]\n",
      "   -------------------------- ------------- 2/3 [pandas]\n",
      "   -------------------------- ------------- 2/3 [pandas]\n",
      "   -------------------------- ------------- 2/3 [pandas]\n",
      "   -------------------------- ------------- 2/3 [pandas]\n",
      "   -------------------------- ------------- 2/3 [pandas]\n",
      "   -------------------------- ------------- 2/3 [pandas]\n",
      "   -------------------------- ------------- 2/3 [pandas]\n",
      "   -------------------------- ------------- 2/3 [pandas]\n",
      "   -------------------------- ------------- 2/3 [pandas]\n",
      "   -------------------------- ------------- 2/3 [pandas]\n",
      "   -------------------------- ------------- 2/3 [pandas]\n",
      "   -------------------------- ------------- 2/3 [pandas]\n",
      "   -------------------------- ------------- 2/3 [pandas]\n",
      "   -------------------------- ------------- 2/3 [pandas]\n",
      "   -------------------------- ------------- 2/3 [pandas]\n",
      "   -------------------------- ------------- 2/3 [pandas]\n",
      "   -------------------------- ------------- 2/3 [pandas]\n",
      "   -------------------------- ------------- 2/3 [pandas]\n",
      "   -------------------------- ------------- 2/3 [pandas]\n",
      "   -------------------------- ------------- 2/3 [pandas]\n",
      "   -------------------------- ------------- 2/3 [pandas]\n",
      "   -------------------------- ------------- 2/3 [pandas]\n",
      "   -------------------------- ------------- 2/3 [pandas]\n",
      "   -------------------------- ------------- 2/3 [pandas]\n",
      "   -------------------------- ------------- 2/3 [pandas]\n",
      "   -------------------------- ------------- 2/3 [pandas]\n",
      "   -------------------------- ------------- 2/3 [pandas]\n",
      "   -------------------------- ------------- 2/3 [pandas]\n",
      "   -------------------------- ------------- 2/3 [pandas]\n",
      "   ---------------------------------------- 3/3 [pandas]\n",
      "\n",
      "Successfully installed pandas-2.3.2 pytz-2025.2 tzdata-2025.2\n"
     ]
    }
   ],
   "source": [
    "!pip install pandas"
   ]
  },
  {
   "cell_type": "code",
   "execution_count": 13,
   "metadata": {
    "collapsed": true,
    "jupyter": {
     "outputs_hidden": true
    },
    "scrolled": true
   },
   "outputs": [
    {
     "name": "stdout",
     "output_type": "stream",
     "text": [
      "Collecting seaborn\n",
      "  Using cached seaborn-0.13.2-py3-none-any.whl.metadata (5.4 kB)\n",
      "Collecting matplotlib\n",
      "  Downloading matplotlib-3.10.6-cp313-cp313-win_amd64.whl.metadata (11 kB)\n",
      "Requirement already satisfied: numpy!=1.24.0,>=1.20 in c:\\users\\user\\miniconda3\\lib\\site-packages (from seaborn) (2.2.6)\n",
      "Requirement already satisfied: pandas>=1.2 in c:\\users\\user\\miniconda3\\lib\\site-packages (from seaborn) (2.3.2)\n",
      "Collecting contourpy>=1.0.1 (from matplotlib)\n",
      "  Downloading contourpy-1.3.3-cp313-cp313-win_amd64.whl.metadata (5.5 kB)\n",
      "Collecting cycler>=0.10 (from matplotlib)\n",
      "  Using cached cycler-0.12.1-py3-none-any.whl.metadata (3.8 kB)\n",
      "Collecting fonttools>=4.22.0 (from matplotlib)\n",
      "  Downloading fonttools-4.60.0-cp313-cp313-win_amd64.whl.metadata (113 kB)\n",
      "Collecting kiwisolver>=1.3.1 (from matplotlib)\n",
      "  Downloading kiwisolver-1.4.9-cp313-cp313-win_amd64.whl.metadata (6.4 kB)\n",
      "Requirement already satisfied: packaging>=20.0 in c:\\users\\user\\miniconda3\\lib\\site-packages (from matplotlib) (25.0)\n",
      "Requirement already satisfied: pillow>=8 in c:\\users\\user\\miniconda3\\lib\\site-packages (from matplotlib) (11.3.0)\n",
      "Collecting pyparsing>=2.3.1 (from matplotlib)\n",
      "  Using cached pyparsing-3.2.4-py3-none-any.whl.metadata (5.0 kB)\n",
      "Requirement already satisfied: python-dateutil>=2.7 in c:\\users\\user\\miniconda3\\lib\\site-packages (from matplotlib) (2.9.0.post0)\n",
      "Requirement already satisfied: pytz>=2020.1 in c:\\users\\user\\miniconda3\\lib\\site-packages (from pandas>=1.2->seaborn) (2025.2)\n",
      "Requirement already satisfied: tzdata>=2022.7 in c:\\users\\user\\miniconda3\\lib\\site-packages (from pandas>=1.2->seaborn) (2025.2)\n",
      "Requirement already satisfied: six>=1.5 in c:\\users\\user\\miniconda3\\lib\\site-packages (from python-dateutil>=2.7->matplotlib) (1.17.0)\n",
      "Using cached seaborn-0.13.2-py3-none-any.whl (294 kB)\n",
      "Downloading matplotlib-3.10.6-cp313-cp313-win_amd64.whl (8.1 MB)\n",
      "   ---------------------------------------- 0.0/8.1 MB ? eta -:--:--\n",
      "   --------------------------- ------------ 5.5/8.1 MB 28.3 MB/s eta 0:00:01\n",
      "   ---------------------------------- ----- 7.1/8.1 MB 17.0 MB/s eta 0:00:01\n",
      "   ---------------------------------------- 8.1/8.1 MB 17.5 MB/s eta 0:00:00\n",
      "Downloading contourpy-1.3.3-cp313-cp313-win_amd64.whl (226 kB)\n",
      "Using cached cycler-0.12.1-py3-none-any.whl (8.3 kB)\n",
      "Downloading fonttools-4.60.0-cp313-cp313-win_amd64.whl (2.3 MB)\n",
      "   ---------------------------------------- 0.0/2.3 MB ? eta -:--:--\n",
      "   ---------------------------------------- 2.3/2.3 MB 50.5 MB/s eta 0:00:00\n",
      "Downloading kiwisolver-1.4.9-cp313-cp313-win_amd64.whl (73 kB)\n",
      "Using cached pyparsing-3.2.4-py3-none-any.whl (113 kB)\n",
      "Installing collected packages: pyparsing, kiwisolver, fonttools, cycler, contourpy, matplotlib, seaborn\n",
      "\n",
      "   ----------- ---------------------------- 2/7 [fonttools]\n",
      "   ----------- ---------------------------- 2/7 [fonttools]\n",
      "   ----------- ---------------------------- 2/7 [fonttools]\n",
      "   ----------- ---------------------------- 2/7 [fonttools]\n",
      "   ----------- ---------------------------- 2/7 [fonttools]\n",
      "   ----------- ---------------------------- 2/7 [fonttools]\n",
      "   ----------- ---------------------------- 2/7 [fonttools]\n",
      "   ----------- ---------------------------- 2/7 [fonttools]\n",
      "   ---------------------------- ----------- 5/7 [matplotlib]\n",
      "   ---------------------------- ----------- 5/7 [matplotlib]\n",
      "   ---------------------------- ----------- 5/7 [matplotlib]\n",
      "   ---------------------------- ----------- 5/7 [matplotlib]\n",
      "   ---------------------------- ----------- 5/7 [matplotlib]\n",
      "   ---------------------------- ----------- 5/7 [matplotlib]\n",
      "   ---------------------------- ----------- 5/7 [matplotlib]\n",
      "   ---------------------------- ----------- 5/7 [matplotlib]\n",
      "   ---------------------------- ----------- 5/7 [matplotlib]\n",
      "   ---------------------------- ----------- 5/7 [matplotlib]\n",
      "   ---------------------------------- ----- 6/7 [seaborn]\n",
      "   ---------------------------------- ----- 6/7 [seaborn]\n",
      "   ---------------------------------------- 7/7 [seaborn]\n",
      "\n",
      "Successfully installed contourpy-1.3.3 cycler-0.12.1 fonttools-4.60.0 kiwisolver-1.4.9 matplotlib-3.10.6 pyparsing-3.2.4 seaborn-0.13.2\n"
     ]
    }
   ],
   "source": [
    "!pip install seaborn matplotlib"
   ]
  },
  {
   "cell_type": "code",
   "execution_count": 14,
   "metadata": {
    "id": "ep55mps6EiCB"
   },
   "outputs": [],
   "source": [
    "import tensorflow as tf\n",
    "from tensorflow.keras import Input\n",
    "from tensorflow.keras.applications.efficientnet import EfficientNetB0,EfficientNetB1,EfficientNetB2,EfficientNetB3,EfficientNetB4\n",
    "from tensorflow.keras.optimizers import SGD, RMSprop, Adagrad, Adadelta, Adam, Adamax, Nadam\n",
    "import csv\n",
    "from tensorflow.keras.models import Sequential, Model\n",
    "from tensorflow.keras.callbacks import ModelCheckpoint\n",
    "from tensorflow.keras.layers import Dense, GlobalAveragePooling2D\n",
    "from tensorflow.keras.layers import Input, Conv2D, MaxPooling2D, Dense, Flatten, Dropout\n",
    "from tensorflow.keras.preprocessing.image import ImageDataGenerator\n",
    "from sklearn.model_selection import train_test_split\n",
    "from sklearn.metrics import classification_report, confusion_matrix, accuracy_score, precision_score, recall_score, f1_score, log_loss, jaccard_score\n",
    "import numpy as np\n",
    "import os\n",
    "import cv2\n",
    "import zipfile\n",
    "from PIL import Image\n",
    "from shutil import copyfile  # Import the copyfile function\n",
    "import pandas as pd\n",
    "import seaborn as sns\n",
    "import matplotlib.pyplot as plt"
   ]
  },
  {
   "cell_type": "markdown",
   "metadata": {
    "id": "hmQUVaqcRU1d"
   },
   "source": [
    "# **Checking GPU availability and CPU setting**"
   ]
  },
  {
   "cell_type": "code",
   "execution_count": 31,
   "metadata": {
    "colab": {
     "base_uri": "https://localhost:8080/"
    },
    "id": "LQl7706tE4-k",
    "outputId": "8d775280-be1c-47c9-efbe-441f18c12a8f"
   },
   "outputs": [
    {
     "name": "stdout",
     "output_type": "stream",
     "text": [
      "⚠️ GPU 사용 불가 - CPU 모드 사용\n",
      "TensorFlow 버전: 2.20.0\n",
      "사용할 디바이스: /CPU:0\n",
      "GPU 사용 가능: []\n",
      "✅ 디바이스 테스트 완료\n"
     ]
    }
   ],
   "source": [
    "import tensorflow as tf\n",
    "\n",
    "# GPU 메모리 증가 설정 (GPU 사용 시 메모리 부족 방지)\n",
    "def setup_tensorflow():\n",
    "    \"\"\"TensorFlow GPU/CPU 자동 설정\"\"\"\n",
    "    gpus = tf.config.experimental.list_physical_devices('GPU')\n",
    "    \n",
    "    if gpus:\n",
    "        try:\n",
    "            # GPU 메모리 증가 허용 (메모리 부족 에러 방지)\n",
    "            for gpu in gpus:\n",
    "                tf.config.experimental.set_memory_growth(gpu, True)\n",
    "            \n",
    "            print(\"✅ GPU 사용 가능!\")\n",
    "            print(f\"   감지된 GPU: {len(gpus)}개\")\n",
    "            device = '/GPU:0'\n",
    "            \n",
    "        except RuntimeError as e:\n",
    "            print(f\"❌ GPU 설정 실패: {e}\")\n",
    "            print(\"🔄 CPU 모드로 전환\")\n",
    "            device = '/CPU:0'\n",
    "    else:\n",
    "        print(\"⚠️ GPU 사용 불가 - CPU 모드 사용\")\n",
    "        device = '/CPU:0'\n",
    "    \n",
    "    return device\n",
    "\n",
    "# 자동 설정 실행\n",
    "device = setup_tensorflow()\n",
    "\n",
    "# TensorFlow 정보 출력\n",
    "print(f\"TensorFlow 버전: {tf.__version__}\")\n",
    "print(f\"사용할 디바이스: {device}\")\n",
    "print(f\"GPU 사용 가능: {tf.config.list_physical_devices('GPU')}\")\n",
    "\n",
    "# 간단한 테스트 (선택사항)\n",
    "def test_device():\n",
    "    \"\"\"현재 설정된 디바이스에서 간단한 연산 테스트\"\"\"\n",
    "    try:\n",
    "        with tf.device(device):\n",
    "            a = tf.random.normal([100, 100])\n",
    "            b = tf.random.normal([100, 100])\n",
    "            c = tf.matmul(a, b)\n",
    "        print(\"✅ 디바이스 테스트 완료\")\n",
    "    except Exception as e:\n",
    "        print(f\"❌ 테스트 실패: {e}\")\n",
    "\n",
    "# 테스트 실행\n",
    "test_device()\n",
    "\n",
    "# 이제 이후 모든 TensorFlow 연산에서 자동으로 적절한 디바이스 사용됩니다!"
   ]
  },
  {
   "cell_type": "markdown",
   "metadata": {
    "id": "s8xaZJuoRZSn"
   },
   "source": [
    "# **Dataset Path 학습 Forder**"
   ]
  },
  {
   "cell_type": "code",
   "execution_count": 55,
   "metadata": {
    "id": "T0vWY27VGBg0"
   },
   "outputs": [],
   "source": [
    "# Define paths to our training, test, and validation data\n",
    "train_path = 'C:\\\\Users\\\\User\\\\Desktop\\\\Dataset_v2\\\\train\\\\' #'D:\\\\Data\\\\fundus\\\\train\\\\Augmented Train\\\\'\n",
    "test_path =  'C:\\\\Users\\\\User\\\\Desktop\\\\Dataset_v2\\\\test\\\\'\n",
    "validation_path = 'C:\\\\Users\\\\User\\\\Desktop\\\\Dataset_v2\\\\val\\\\'"
   ]
  },
  {
   "cell_type": "markdown",
   "metadata": {
    "id": "JbKPAzQkRbk4"
   },
   "source": [
    "# **Dataset Manipulation**"
   ]
  },
  {
   "cell_type": "code",
   "execution_count": 56,
   "metadata": {
    "id": "GTgOT9jhEpG1"
   },
   "outputs": [],
   "source": [
    "# Function to load images and labels in batches using PIL\n",
    "def load_images_and_labels_from_folders(base_path):\n",
    "    images = []\n",
    "    labels = []\n",
    "    \n",
    "    # real 폴더에서 이미지 로드\n",
    "    real_folder = os.path.join(base_path, 'real')\n",
    "    if os.path.exists(real_folder):\n",
    "        for filename in os.listdir(real_folder):\n",
    "            if filename.endswith('.jpg') or filename.endswith('.png'):\n",
    "                image_path = os.path.join(real_folder, filename)\n",
    "                img = Image.open(image_path).convert('RGB')\n",
    "                img = img.resize((516, 516))\n",
    "                img_array = np.array(img)\n",
    "                images.append(img_array)\n",
    "                labels.append('real')\n",
    "    \n",
    "    # fake 폴더에서 이미지 로드\n",
    "    fake_folder = os.path.join(base_path, 'fake')\n",
    "    if os.path.exists(fake_folder):\n",
    "        for filename in os.listdir(fake_folder):\n",
    "            if filename.endswith('.jpg') or filename.endswith('.png'):\n",
    "                image_path = os.path.join(fake_folder, filename)\n",
    "                img = Image.open(image_path).convert('RGB')\n",
    "                img = img.resize((516, 516))\n",
    "                img_array = np.array(img)\n",
    "                images.append(img_array)\n",
    "                labels.append('fake')\n",
    "    \n",
    "    return np.array(images), np.array(labels)\n",
    "\n",
    "# Load images and labels\n",
    "train_images, train_labels = load_images_and_labels_from_folders(train_path)\n",
    "test_images, test_labels = load_images_and_labels_from_folders(test_path)\n",
    "validation_images, validation_labels = load_images_and_labels_from_folders(validation_path)"
   ]
  },
  {
   "cell_type": "code",
   "execution_count": 57,
   "metadata": {
    "id": "jZQxWKPAGkzR"
   },
   "outputs": [
    {
     "name": "stdout",
     "output_type": "stream",
     "text": [
      "Label mapping: {'fake': 0, 'real': 1}\n",
      "Train shape: (5322,)\n",
      "Test shape: (354,)\n",
      "Validation shape: (296,)\n"
     ]
    }
   ],
   "source": [
    "# Define a mapping dictionary from string labels to numeric labels\n",
    "label_map = {'fake': 0, 'real': 1}\n",
    "\n",
    "# Convert string labels to numeric labels with error handling\n",
    "def convert_labels_to_numeric(labels, label_map):\n",
    "    numeric_labels = []\n",
    "    for label in labels:\n",
    "        if label in label_map:\n",
    "            numeric_labels.append(label_map[label])\n",
    "        else:\n",
    "            print(f\"Warning: Unknown label '{label}' found. Skipping...\")\n",
    "    return np.array(numeric_labels)\n",
    "\n",
    "train_numeric_labels = convert_labels_to_numeric(train_labels, label_map)\n",
    "test_numeric_labels = convert_labels_to_numeric(test_labels, label_map)\n",
    "validation_numeric_labels = convert_labels_to_numeric(validation_labels, label_map)\n",
    "\n",
    "print(f\"Label mapping: {label_map}\")\n",
    "print(f\"Train shape: {train_numeric_labels.shape}\")\n",
    "print(f\"Test shape: {test_numeric_labels.shape}\")\n",
    "print(f\"Validation shape: {validation_numeric_labels.shape}\")"
   ]
  },
  {
   "cell_type": "markdown",
   "metadata": {
    "id": "2B62CEtqRejp"
   },
   "source": [
    "# **Pre-trained CNN for Feature Extraction**\n",
    "* **EfficientNetB0**\n",
    "* **EfficientNetB1**\n",
    "* **EfficientNetB2**\n",
    "* **EfficientNetB3**\n",
    "* **EfficientNetB4**\n",
    "\n",
    "\n",
    "\n"
   ]
  },
  {
   "cell_type": "code",
   "execution_count": 58,
   "metadata": {
    "id": "s2rZtl7rKTZr"
   },
   "outputs": [],
   "source": [
    "# Define model architecture\n",
    "def create_model(summary=True):\n",
    "    # input_tensor 대신 input_shape 사용\n",
    "    base_model = EfficientNetB0(weights='imagenet', include_top=False, input_shape=(516, 516, 3))\n",
    "    \n",
    "    # 새로운 input layer 추가\n",
    "    inputs = Input(shape=(516, 516, 3))\n",
    "    x = base_model(inputs)\n",
    "    x = Flatten()(x)\n",
    "    outputs = Dense(2, activation='softmax')(x)  # 2 classes: fake(0), real(1)\n",
    "    \n",
    "    model = tf.keras.Model(inputs=inputs, outputs=outputs)\n",
    "    model.compile(optimizer=SGD(learning_rate=1e-4), \n",
    "                 loss='sparse_categorical_crossentropy', \n",
    "                 metrics=['accuracy'])\n",
    "    \n",
    "    if summary:\n",
    "        print(model.summary())\n",
    "    return model"
   ]
  },
  {
   "cell_type": "code",
   "execution_count": 59,
   "metadata": {
    "colab": {
     "base_uri": "https://localhost:8080/"
    },
    "id": "OfxJ_YkeGuEM",
    "outputId": "ad0530b6-d729-4b30-a45b-64e49742cd2c"
   },
   "outputs": [],
   "source": [
    "# Create and compile the model\n",
    "# model = create_model() <--임시 주석처리\n",
    "# 세션과 캐시 완전 초기화\n",
    "import tensorflow as tf\n",
    "tf.keras.backend.clear_session()\n",
    "import gc\n",
    "gc.collect()\n",
    "\n",
    "# 메모리 정리\n",
    "if 'model' in globals():\n",
    "    del model"
   ]
  },
  {
   "cell_type": "code",
   "execution_count": 60,
   "metadata": {},
   "outputs": [],
   "source": [
    "def create_model(summary=True):\n",
    "    # 먼저 가중치 없이 모델 구조만 생성\n",
    "    base_model = EfficientNetB0(weights=None, include_top=False, input_shape=(516, 516, 3))\n",
    "    \n",
    "    inputs = Input(shape=(516, 516, 3))\n",
    "    x = base_model(inputs)\n",
    "    x = Flatten()(x)\n",
    "    outputs = Dense(2, activation='softmax')(x)\n",
    "    \n",
    "    model = tf.keras.Model(inputs=inputs, outputs=outputs)\n",
    "    \n",
    "    # 이제 가중치 로드\n",
    "    try:\n",
    "        base_model.load_weights(tf.keras.utils.get_file(\n",
    "            'efficientnet-b0_weights_tf_dim_ordering_tf_kernels_autoaugment_notop.h5',\n",
    "            'https://github.com/Callidior/keras-applications/releases/download/efficientnet/efficientnet-b0_weights_tf_dim_ordering_tf_kernels_autoaugment_notop.h5',\n",
    "            cache_subdir='models'\n",
    "        ))\n",
    "        print(\"✅ 가중치 로드 성공!\")\n",
    "    except:\n",
    "        print(\"⚠️ ImageNet 가중치 로드 실패. 랜덤 가중치로 시작합니다.\")\n",
    "    \n",
    "    model.compile(optimizer=SGD(learning_rate=1e-4), \n",
    "                 loss='sparse_categorical_crossentropy', \n",
    "                 metrics=['accuracy'])\n",
    "    \n",
    "    if summary:\n",
    "        print(model.summary())\n",
    "    return model"
   ]
  },
  {
   "cell_type": "markdown",
   "metadata": {
    "id": "2D4c7NyZRL4Z"
   },
   "source": [
    "# **Model Checkpint**"
   ]
  },
  {
   "cell_type": "code",
   "execution_count": 61,
   "metadata": {
    "id": "hQ_bl0ZWSGhL"
   },
   "outputs": [],
   "source": [
    "model_dir = r'C:\\Users\\User\\Desktop\\Dataset_v2'\n",
    "if not os.path.exists(model_dir):\n",
    "    os.makedirs(model_dir)\n",
    "checkpoint_path = model_dir + '/best_model.weights.h5'  # .weights.h5로 변경\n",
    "checkpoint_dir = os.path.dirname(checkpoint_path)\n",
    "\n",
    "# Create a callback that saves the model's weights\n",
    "cp_callback = tf.keras.callbacks.ModelCheckpoint(filepath=checkpoint_path,\n",
    "                                                 save_weights_only=True,\n",
    "                                                 save_best_only=True,\n",
    "                                                 monitor=\"val_accuracy\",\n",
    "                                                 mode=\"max\",\n",
    "                                                 verbose=1)"
   ]
  },
  {
   "cell_type": "markdown",
   "metadata": {
    "id": "9qeyTDbukFhz"
   },
   "source": [
    "# **Training Weight**"
   ]
  },
  {
   "cell_type": "code",
   "execution_count": 62,
   "metadata": {},
   "outputs": [
    {
     "name": "stdout",
     "output_type": "stream",
     "text": [
      "Class weights: {0: 2.0, 1: 1.0}\n",
      "Fake detection priority: 2.0x\n"
     ]
    }
   ],
   "source": [
    "# Real/Fake 이진 분류용 클래스 가중치\n",
    "weight_fake = 2.0   # Fake 탐지를 더 중요하게 (높은 가중치)\n",
    "weight_real = 1.0   # Real은 상대적으로 낮은 가중치\n",
    "\n",
    "# Create class weights dictionary\n",
    "class_weights = {\n",
    "    0: weight_fake,  # fake 클래스\n",
    "    1: weight_real   # real 클래스\n",
    "}\n",
    "\n",
    "print(f\"Class weights: {class_weights}\")\n",
    "print(f\"Fake detection priority: {weight_fake}x\")"
   ]
  },
  {
   "cell_type": "code",
   "execution_count": 63,
   "metadata": {},
   "outputs": [
    {
     "name": "stdout",
     "output_type": "stream",
     "text": [
      "❌ 모델이 정의되지 않았습니다. 모델을 생성합니다.\n"
     ]
    }
   ],
   "source": [
    "# 모델이 정의되어 있는지 확인\n",
    "try:\n",
    "    print(model.summary())\n",
    "    print(\"✅ 모델이 이미 정의되어 있습니다.\")\n",
    "except NameError:\n",
    "    print(\"❌ 모델이 정의되지 않았습니다. 모델을 생성합니다.\")"
   ]
  },
  {
   "cell_type": "code",
   "execution_count": 64,
   "metadata": {},
   "outputs": [],
   "source": [
    "import tensorflow as tf\n",
    "import gc\n",
    "\n",
    "# 완전히 초기화\n",
    "tf.keras.backend.clear_session()\n",
    "gc.collect()\n",
    "\n",
    "# 기존 모델 변수 삭제\n",
    "if 'model' in globals():\n",
    "    del model"
   ]
  },
  {
   "cell_type": "code",
   "execution_count": 65,
   "metadata": {},
   "outputs": [
    {
     "name": "stdout",
     "output_type": "stream",
     "text": [
      "❌ 첫 번째 방법 실패: Shape mismatch in layer #1 (named stem_conv)for weight stem_conv/kernel. Weight expects shape (3, 3, 1, 32). Received saved weight with shape (3, 3, 3, 32)\n",
      "🔄 두 번째 방법 시도...\n",
      "Downloading data from https://github.com/Callidior/keras-applications/releases/download/efficientnet/efficientnet-b0_weights_tf_dim_ordering_tf_kernels_autoaugment_notop.h5\n",
      "⚠️ ImageNet 가중치 로드 실패. 랜덤 가중치로 시작합니다.\n",
      "✅ EfficientNetB0 모델 생성 성공 (방법 2)!\n",
      "Total parameters: 4,052,133\n"
     ]
    }
   ],
   "source": [
    "from tensorflow.keras.applications import EfficientNetB0\n",
    "from tensorflow.keras.layers import *\n",
    "from tensorflow.keras.optimizers import SGD\n",
    "import tensorflow as tf\n",
    "\n",
    "def create_model(summary=True):\n",
    "    # 방법 1: 기본 input_shape 사용\n",
    "    try:\n",
    "        base_model = EfficientNetB0(\n",
    "            weights='imagenet', \n",
    "            include_top=False, \n",
    "            input_shape=(516, 516, 3)  # 직접 shape 지정\n",
    "        )\n",
    "        \n",
    "        model = tf.keras.Sequential([\n",
    "            base_model,\n",
    "            GlobalAveragePooling2D(),  # Flatten 대신 GAP 사용\n",
    "            Dense(2, activation='softmax')\n",
    "        ])\n",
    "        \n",
    "        model.compile(\n",
    "            optimizer=SGD(learning_rate=1e-4), \n",
    "            loss='sparse_categorical_crossentropy', \n",
    "            metrics=['accuracy']\n",
    "        )\n",
    "        \n",
    "        print(\"✅ EfficientNetB0 모델 생성 성공!\")\n",
    "        if summary:\n",
    "            print(f\"Total parameters: {model.count_params():,}\")\n",
    "        \n",
    "        return model\n",
    "        \n",
    "    except Exception as e:\n",
    "        print(f\"❌ 첫 번째 방법 실패: {e}\")\n",
    "        \n",
    "        # 방법 2: 가중치 없이 생성 후 로드\n",
    "        try:\n",
    "            print(\"🔄 두 번째 방법 시도...\")\n",
    "            base_model = EfficientNetB0(\n",
    "                weights=None,  # 가중치 없이 생성\n",
    "                include_top=False, \n",
    "                input_shape=(516, 516, 3)\n",
    "            )\n",
    "            \n",
    "            model = tf.keras.Sequential([\n",
    "                base_model,\n",
    "                GlobalAveragePooling2D(),\n",
    "                Dense(2, activation='softmax')\n",
    "            ])\n",
    "            \n",
    "            # 가중치 수동 로드 시도\n",
    "            try:\n",
    "                base_model.load_weights(tf.keras.utils.get_file(\n",
    "                    'efficientnet-b0_weights_tf_dim_ordering_tf_kernels_autoaugment_notop.h5',\n",
    "                    'https://github.com/Callidior/keras-applications/releases/download/efficientnet/efficientnet-b0_weights_tf_dim_ordering_tf_kernels_autoaugment_notop.h5',\n",
    "                    cache_subdir='models'\n",
    "                ))\n",
    "                print(\"✅ ImageNet 가중치 로드 성공!\")\n",
    "            except:\n",
    "                print(\"⚠️ ImageNet 가중치 로드 실패. 랜덤 가중치로 시작합니다.\")\n",
    "            \n",
    "            model.compile(\n",
    "                optimizer=SGD(learning_rate=1e-4), \n",
    "                loss='sparse_categorical_crossentropy', \n",
    "                metrics=['accuracy']\n",
    "            )\n",
    "            \n",
    "            print(\"✅ EfficientNetB0 모델 생성 성공 (방법 2)!\")\n",
    "            if summary:\n",
    "                print(f\"Total parameters: {model.count_params():,}\")\n",
    "            \n",
    "            return model\n",
    "            \n",
    "        except Exception as e2:\n",
    "            print(f\"❌ 두 번째 방법도 실패: {e2}\")\n",
    "            raise e2\n",
    "\n",
    "# 모델 생성\n",
    "model = create_model()"
   ]
  },
  {
   "cell_type": "code",
   "execution_count": 66,
   "metadata": {},
   "outputs": [
    {
     "name": "stdout",
     "output_type": "stream",
     "text": [
      "✅ EfficientNet 체크포인트 경로: C:\\Users\\User\\Desktop\\DataSet_v1\\efficientnet_best.weights.h5\n"
     ]
    }
   ],
   "source": [
    "import os\n",
    "\n",
    "# 환경 호환 경로 설정\n",
    "username = os.getenv('USERNAME', 'User')\n",
    "model_dir = rf'C:\\Users\\{username}\\Desktop\\DataSet_v1'\n",
    "\n",
    "if not os.path.exists(model_dir):\n",
    "    os.makedirs(model_dir)\n",
    "\n",
    "checkpoint_path = os.path.join(model_dir, 'efficientnet_best.weights.h5')\n",
    "\n",
    "cp_callback = tf.keras.callbacks.ModelCheckpoint(\n",
    "    filepath=checkpoint_path,\n",
    "    save_weights_only=True,\n",
    "    save_best_only=True,\n",
    "    monitor=\"val_accuracy\",\n",
    "    mode=\"max\",\n",
    "    verbose=1\n",
    ")\n",
    "\n",
    "print(f\"✅ EfficientNet 체크포인트 경로: {checkpoint_path}\")"
   ]
  },
  {
   "cell_type": "code",
   "execution_count": 9,
   "metadata": {},
   "outputs": [],
   "source": [
    "# 이미지 학습량 및 가중치"
   ]
  },
  {
   "cell_type": "code",
   "execution_count": 67,
   "metadata": {},
   "outputs": [
    {
     "name": "stdout",
     "output_type": "stream",
     "text": [
      "Epoch 1/50\n",
      "\u001b[1m666/666\u001b[0m \u001b[32m━━━━━━━━━━━━━━━━━━━━\u001b[0m\u001b[37m\u001b[0m \u001b[1m0s\u001b[0m 1s/step - accuracy: 0.4652 - loss: 1.0570\n",
      "Epoch 1: val_accuracy improved from None to 0.59797, saving model to C:\\Users\\User\\Desktop\\DataSet_v1\\efficientnet_best.weights.h5\n",
      "\u001b[1m666/666\u001b[0m \u001b[32m━━━━━━━━━━━━━━━━━━━━\u001b[0m\u001b[37m\u001b[0m \u001b[1m884s\u001b[0m 1s/step - accuracy: 0.4852 - loss: 0.9994 - val_accuracy: 0.5980 - val_loss: 0.6658\n",
      "Epoch 2/50\n",
      "\u001b[1m666/666\u001b[0m \u001b[32m━━━━━━━━━━━━━━━━━━━━\u001b[0m\u001b[37m\u001b[0m \u001b[1m0s\u001b[0m 1s/step - accuracy: 0.4960 - loss: 0.9322\n",
      "Epoch 2: val_accuracy did not improve from 0.59797\n",
      "\u001b[1m666/666\u001b[0m \u001b[32m━━━━━━━━━━━━━━━━━━━━\u001b[0m\u001b[37m\u001b[0m \u001b[1m865s\u001b[0m 1s/step - accuracy: 0.5000 - loss: 0.9295 - val_accuracy: 0.5980 - val_loss: 0.6481\n",
      "Epoch 3/50\n",
      "\u001b[1m666/666\u001b[0m \u001b[32m━━━━━━━━━━━━━━━━━━━━\u001b[0m\u001b[37m\u001b[0m \u001b[1m0s\u001b[0m 1s/step - accuracy: 0.4942 - loss: 0.9097\n",
      "Epoch 3: val_accuracy did not improve from 0.59797\n",
      "\u001b[1m666/666\u001b[0m \u001b[32m━━━━━━━━━━━━━━━━━━━━\u001b[0m\u001b[37m\u001b[0m \u001b[1m866s\u001b[0m 1s/step - accuracy: 0.5000 - loss: 0.9063 - val_accuracy: 0.5980 - val_loss: 0.6336\n",
      "Epoch 4/50\n",
      "\u001b[1m666/666\u001b[0m \u001b[32m━━━━━━━━━━━━━━━━━━━━\u001b[0m\u001b[37m\u001b[0m \u001b[1m0s\u001b[0m 1s/step - accuracy: 0.5095 - loss: 0.8889\n",
      "Epoch 4: val_accuracy did not improve from 0.59797\n",
      "\u001b[1m666/666\u001b[0m \u001b[32m━━━━━━━━━━━━━━━━━━━━\u001b[0m\u001b[37m\u001b[0m \u001b[1m866s\u001b[0m 1s/step - accuracy: 0.5002 - loss: 0.8854 - val_accuracy: 0.5980 - val_loss: 0.6168\n",
      "Epoch 5/50\n",
      "\u001b[1m666/666\u001b[0m \u001b[32m━━━━━━━━━━━━━━━━━━━━\u001b[0m\u001b[37m\u001b[0m \u001b[1m0s\u001b[0m 1s/step - accuracy: 0.4894 - loss: 0.8699\n",
      "Epoch 5: val_accuracy did not improve from 0.59797\n",
      "\u001b[1m666/666\u001b[0m \u001b[32m━━━━━━━━━━━━━━━━━━━━\u001b[0m\u001b[37m\u001b[0m \u001b[1m867s\u001b[0m 1s/step - accuracy: 0.5013 - loss: 0.8610 - val_accuracy: 0.5980 - val_loss: 0.5955\n",
      "Epoch 6/50\n",
      "\u001b[1m666/666\u001b[0m \u001b[32m━━━━━━━━━━━━━━━━━━━━\u001b[0m\u001b[37m\u001b[0m \u001b[1m0s\u001b[0m 1s/step - accuracy: 0.5174 - loss: 0.8323\n",
      "Epoch 6: val_accuracy improved from 0.59797 to 0.61824, saving model to C:\\Users\\User\\Desktop\\DataSet_v1\\efficientnet_best.weights.h5\n",
      "\u001b[1m666/666\u001b[0m \u001b[32m━━━━━━━━━━━━━━━━━━━━\u001b[0m\u001b[37m\u001b[0m \u001b[1m868s\u001b[0m 1s/step - accuracy: 0.5148 - loss: 0.8328 - val_accuracy: 0.6182 - val_loss: 0.5813\n",
      "Epoch 7/50\n",
      "\u001b[1m666/666\u001b[0m \u001b[32m━━━━━━━━━━━━━━━━━━━━\u001b[0m\u001b[37m\u001b[0m \u001b[1m0s\u001b[0m 1s/step - accuracy: 0.5324 - loss: 0.8136\n",
      "Epoch 7: val_accuracy improved from 0.61824 to 0.70946, saving model to C:\\Users\\User\\Desktop\\DataSet_v1\\efficientnet_best.weights.h5\n",
      "\u001b[1m666/666\u001b[0m \u001b[32m━━━━━━━━━━━━━━━━━━━━\u001b[0m\u001b[37m\u001b[0m \u001b[1m866s\u001b[0m 1s/step - accuracy: 0.5494 - loss: 0.8031 - val_accuracy: 0.7095 - val_loss: 0.5481\n",
      "Epoch 8/50\n",
      "\u001b[1m666/666\u001b[0m \u001b[32m━━━━━━━━━━━━━━━━━━━━\u001b[0m\u001b[37m\u001b[0m \u001b[1m0s\u001b[0m 1s/step - accuracy: 0.5981 - loss: 0.7768\n",
      "Epoch 8: val_accuracy improved from 0.70946 to 0.77027, saving model to C:\\Users\\User\\Desktop\\DataSet_v1\\efficientnet_best.weights.h5\n",
      "\u001b[1m666/666\u001b[0m \u001b[32m━━━━━━━━━━━━━━━━━━━━\u001b[0m\u001b[37m\u001b[0m \u001b[1m866s\u001b[0m 1s/step - accuracy: 0.6073 - loss: 0.7623 - val_accuracy: 0.7703 - val_loss: 0.5127\n",
      "Epoch 9/50\n",
      "\u001b[1m666/666\u001b[0m \u001b[32m━━━━━━━━━━━━━━━━━━━━\u001b[0m\u001b[37m\u001b[0m \u001b[1m0s\u001b[0m 1s/step - accuracy: 0.6568 - loss: 0.7453\n",
      "Epoch 9: val_accuracy improved from 0.77027 to 0.84797, saving model to C:\\Users\\User\\Desktop\\DataSet_v1\\efficientnet_best.weights.h5\n",
      "\u001b[1m666/666\u001b[0m \u001b[32m━━━━━━━━━━━━━━━━━━━━\u001b[0m\u001b[37m\u001b[0m \u001b[1m866s\u001b[0m 1s/step - accuracy: 0.6736 - loss: 0.7373 - val_accuracy: 0.8480 - val_loss: 0.4885\n",
      "Epoch 10/50\n",
      "\u001b[1m666/666\u001b[0m \u001b[32m━━━━━━━━━━━━━━━━━━━━\u001b[0m\u001b[37m\u001b[0m \u001b[1m0s\u001b[0m 1s/step - accuracy: 0.7005 - loss: 0.7075\n",
      "Epoch 10: val_accuracy improved from 0.84797 to 0.86149, saving model to C:\\Users\\User\\Desktop\\DataSet_v1\\efficientnet_best.weights.h5\n",
      "\u001b[1m666/666\u001b[0m \u001b[32m━━━━━━━━━━━━━━━━━━━━\u001b[0m\u001b[37m\u001b[0m \u001b[1m866s\u001b[0m 1s/step - accuracy: 0.7223 - loss: 0.6989 - val_accuracy: 0.8615 - val_loss: 0.4492\n",
      "Epoch 11/50\n",
      "\u001b[1m666/666\u001b[0m \u001b[32m━━━━━━━━━━━━━━━━━━━━\u001b[0m\u001b[37m\u001b[0m \u001b[1m0s\u001b[0m 1s/step - accuracy: 0.7514 - loss: 0.6634\n",
      "Epoch 11: val_accuracy improved from 0.86149 to 0.87838, saving model to C:\\Users\\User\\Desktop\\DataSet_v1\\efficientnet_best.weights.h5\n",
      "\u001b[1m666/666\u001b[0m \u001b[32m━━━━━━━━━━━━━━━━━━━━\u001b[0m\u001b[37m\u001b[0m \u001b[1m867s\u001b[0m 1s/step - accuracy: 0.7591 - loss: 0.6548 - val_accuracy: 0.8784 - val_loss: 0.4148\n",
      "Epoch 12/50\n",
      "\u001b[1m666/666\u001b[0m \u001b[32m━━━━━━━━━━━━━━━━━━━━\u001b[0m\u001b[37m\u001b[0m \u001b[1m0s\u001b[0m 1s/step - accuracy: 0.7989 - loss: 0.6179\n",
      "Epoch 12: val_accuracy improved from 0.87838 to 0.90878, saving model to C:\\Users\\User\\Desktop\\DataSet_v1\\efficientnet_best.weights.h5\n",
      "\u001b[1m666/666\u001b[0m \u001b[32m━━━━━━━━━━━━━━━━━━━━\u001b[0m\u001b[37m\u001b[0m \u001b[1m866s\u001b[0m 1s/step - accuracy: 0.8008 - loss: 0.6110 - val_accuracy: 0.9088 - val_loss: 0.3668\n",
      "Epoch 13/50\n",
      "\u001b[1m666/666\u001b[0m \u001b[32m━━━━━━━━━━━━━━━━━━━━\u001b[0m\u001b[37m\u001b[0m \u001b[1m0s\u001b[0m 1s/step - accuracy: 0.8132 - loss: 0.5761\n",
      "Epoch 13: val_accuracy improved from 0.90878 to 0.92568, saving model to C:\\Users\\User\\Desktop\\DataSet_v1\\efficientnet_best.weights.h5\n",
      "\u001b[1m666/666\u001b[0m \u001b[32m━━━━━━━━━━━━━━━━━━━━\u001b[0m\u001b[37m\u001b[0m \u001b[1m866s\u001b[0m 1s/step - accuracy: 0.8166 - loss: 0.5683 - val_accuracy: 0.9257 - val_loss: 0.3342\n",
      "Epoch 14/50\n",
      "\u001b[1m666/666\u001b[0m \u001b[32m━━━━━━━━━━━━━━━━━━━━\u001b[0m\u001b[37m\u001b[0m \u001b[1m0s\u001b[0m 1s/step - accuracy: 0.8393 - loss: 0.5305\n",
      "Epoch 14: val_accuracy improved from 0.92568 to 0.94257, saving model to C:\\Users\\User\\Desktop\\DataSet_v1\\efficientnet_best.weights.h5\n",
      "\u001b[1m666/666\u001b[0m \u001b[32m━━━━━━━━━━━━━━━━━━━━\u001b[0m\u001b[37m\u001b[0m \u001b[1m867s\u001b[0m 1s/step - accuracy: 0.8388 - loss: 0.5204 - val_accuracy: 0.9426 - val_loss: 0.2889\n",
      "Epoch 15/50\n",
      "\u001b[1m666/666\u001b[0m \u001b[32m━━━━━━━━━━━━━━━━━━━━\u001b[0m\u001b[37m\u001b[0m \u001b[1m0s\u001b[0m 1s/step - accuracy: 0.8465 - loss: 0.4980\n",
      "Epoch 15: val_accuracy improved from 0.94257 to 0.94932, saving model to C:\\Users\\User\\Desktop\\DataSet_v1\\efficientnet_best.weights.h5\n",
      "\u001b[1m666/666\u001b[0m \u001b[32m━━━━━━━━━━━━━━━━━━━━\u001b[0m\u001b[37m\u001b[0m \u001b[1m866s\u001b[0m 1s/step - accuracy: 0.8497 - loss: 0.4923 - val_accuracy: 0.9493 - val_loss: 0.2424\n",
      "Epoch 16/50\n",
      "\u001b[1m666/666\u001b[0m \u001b[32m━━━━━━━━━━━━━━━━━━━━\u001b[0m\u001b[37m\u001b[0m \u001b[1m0s\u001b[0m 1s/step - accuracy: 0.8670 - loss: 0.4605\n",
      "Epoch 16: val_accuracy improved from 0.94932 to 0.96959, saving model to C:\\Users\\User\\Desktop\\DataSet_v1\\efficientnet_best.weights.h5\n",
      "\u001b[1m666/666\u001b[0m \u001b[32m━━━━━━━━━━━━━━━━━━━━\u001b[0m\u001b[37m\u001b[0m \u001b[1m867s\u001b[0m 1s/step - accuracy: 0.8728 - loss: 0.4473 - val_accuracy: 0.9696 - val_loss: 0.2091\n",
      "Epoch 17/50\n",
      "\u001b[1m666/666\u001b[0m \u001b[32m━━━━━━━━━━━━━━━━━━━━\u001b[0m\u001b[37m\u001b[0m \u001b[1m0s\u001b[0m 1s/step - accuracy: 0.8792 - loss: 0.4233\n",
      "Epoch 17: val_accuracy improved from 0.96959 to 0.98311, saving model to C:\\Users\\User\\Desktop\\DataSet_v1\\efficientnet_best.weights.h5\n",
      "\u001b[1m666/666\u001b[0m \u001b[32m━━━━━━━━━━━━━━━━━━━━\u001b[0m\u001b[37m\u001b[0m \u001b[1m868s\u001b[0m 1s/step - accuracy: 0.8811 - loss: 0.4108 - val_accuracy: 0.9831 - val_loss: 0.1821\n",
      "Epoch 18/50\n",
      "\u001b[1m666/666\u001b[0m \u001b[32m━━━━━━━━━━━━━━━━━━━━\u001b[0m\u001b[37m\u001b[0m \u001b[1m0s\u001b[0m 1s/step - accuracy: 0.8919 - loss: 0.3784\n",
      "Epoch 18: val_accuracy improved from 0.98311 to 0.98986, saving model to C:\\Users\\User\\Desktop\\DataSet_v1\\efficientnet_best.weights.h5\n",
      "\u001b[1m666/666\u001b[0m \u001b[32m━━━━━━━━━━━━━━━━━━━━\u001b[0m\u001b[37m\u001b[0m \u001b[1m867s\u001b[0m 1s/step - accuracy: 0.8929 - loss: 0.3726 - val_accuracy: 0.9899 - val_loss: 0.1529\n",
      "Epoch 19/50\n",
      "\u001b[1m666/666\u001b[0m \u001b[32m━━━━━━━━━━━━━━━━━━━━\u001b[0m\u001b[37m\u001b[0m \u001b[1m0s\u001b[0m 1s/step - accuracy: 0.8903 - loss: 0.3641\n",
      "Epoch 19: val_accuracy improved from 0.98986 to 0.99324, saving model to C:\\Users\\User\\Desktop\\DataSet_v1\\efficientnet_best.weights.h5\n",
      "\u001b[1m666/666\u001b[0m \u001b[32m━━━━━━━━━━━━━━━━━━━━\u001b[0m\u001b[37m\u001b[0m \u001b[1m868s\u001b[0m 1s/step - accuracy: 0.9021 - loss: 0.3440 - val_accuracy: 0.9932 - val_loss: 0.1270\n",
      "Epoch 20/50\n",
      "\u001b[1m666/666\u001b[0m \u001b[32m━━━━━━━━━━━━━━━━━━━━\u001b[0m\u001b[37m\u001b[0m \u001b[1m0s\u001b[0m 1s/step - accuracy: 0.9144 - loss: 0.3208\n",
      "Epoch 20: val_accuracy did not improve from 0.99324\n",
      "\u001b[1m666/666\u001b[0m \u001b[32m━━━━━━━━━━━━━━━━━━━━\u001b[0m\u001b[37m\u001b[0m \u001b[1m868s\u001b[0m 1s/step - accuracy: 0.9136 - loss: 0.3217 - val_accuracy: 0.9932 - val_loss: 0.1098\n",
      "Epoch 21/50\n",
      "\u001b[1m666/666\u001b[0m \u001b[32m━━━━━━━━━━━━━━━━━━━━\u001b[0m\u001b[37m\u001b[0m \u001b[1m0s\u001b[0m 1s/step - accuracy: 0.9123 - loss: 0.3046\n",
      "Epoch 21: val_accuracy did not improve from 0.99324\n",
      "\u001b[1m666/666\u001b[0m \u001b[32m━━━━━━━━━━━━━━━━━━━━\u001b[0m\u001b[37m\u001b[0m \u001b[1m868s\u001b[0m 1s/step - accuracy: 0.9190 - loss: 0.2972 - val_accuracy: 0.9932 - val_loss: 0.0947\n",
      "Epoch 22/50\n",
      "\u001b[1m666/666\u001b[0m \u001b[32m━━━━━━━━━━━━━━━━━━━━\u001b[0m\u001b[37m\u001b[0m \u001b[1m0s\u001b[0m 1s/step - accuracy: 0.9170 - loss: 0.2934\n",
      "Epoch 22: val_accuracy improved from 0.99324 to 0.99662, saving model to C:\\Users\\User\\Desktop\\DataSet_v1\\efficientnet_best.weights.h5\n",
      "\u001b[1m666/666\u001b[0m \u001b[32m━━━━━━━━━━━━━━━━━━━━\u001b[0m\u001b[37m\u001b[0m \u001b[1m874s\u001b[0m 1s/step - accuracy: 0.9245 - loss: 0.2786 - val_accuracy: 0.9966 - val_loss: 0.0748\n",
      "Epoch 23/50\n",
      "\u001b[1m666/666\u001b[0m \u001b[32m━━━━━━━━━━━━━━━━━━━━\u001b[0m\u001b[37m\u001b[0m \u001b[1m0s\u001b[0m 1s/step - accuracy: 0.9270 - loss: 0.2755\n",
      "Epoch 23: val_accuracy did not improve from 0.99662\n",
      "\u001b[1m666/666\u001b[0m \u001b[32m━━━━━━━━━━━━━━━━━━━━\u001b[0m\u001b[37m\u001b[0m \u001b[1m875s\u001b[0m 1s/step - accuracy: 0.9292 - loss: 0.2700 - val_accuracy: 0.9966 - val_loss: 0.0631\n",
      "Epoch 24/50\n",
      "\u001b[1m666/666\u001b[0m \u001b[32m━━━━━━━━━━━━━━━━━━━━\u001b[0m\u001b[37m\u001b[0m \u001b[1m0s\u001b[0m 1s/step - accuracy: 0.9453 - loss: 0.2293\n",
      "Epoch 24: val_accuracy did not improve from 0.99662\n",
      "\u001b[1m666/666\u001b[0m \u001b[32m━━━━━━━━━━━━━━━━━━━━\u001b[0m\u001b[37m\u001b[0m \u001b[1m870s\u001b[0m 1s/step - accuracy: 0.9372 - loss: 0.2403 - val_accuracy: 0.9932 - val_loss: 0.0555\n",
      "Epoch 25/50\n",
      "\u001b[1m666/666\u001b[0m \u001b[32m━━━━━━━━━━━━━━━━━━━━\u001b[0m\u001b[37m\u001b[0m \u001b[1m0s\u001b[0m 1s/step - accuracy: 0.9440 - loss: 0.2181\n",
      "Epoch 25: val_accuracy did not improve from 0.99662\n",
      "\u001b[1m666/666\u001b[0m \u001b[32m━━━━━━━━━━━━━━━━━━━━\u001b[0m\u001b[37m\u001b[0m \u001b[1m868s\u001b[0m 1s/step - accuracy: 0.9389 - loss: 0.2314 - val_accuracy: 0.9966 - val_loss: 0.0478\n",
      "Epoch 26/50\n",
      "\u001b[1m666/666\u001b[0m \u001b[32m━━━━━━━━━━━━━━━━━━━━\u001b[0m\u001b[37m\u001b[0m \u001b[1m0s\u001b[0m 1s/step - accuracy: 0.9508 - loss: 0.2161\n",
      "Epoch 26: val_accuracy did not improve from 0.99662\n",
      "\u001b[1m666/666\u001b[0m \u001b[32m━━━━━━━━━━━━━━━━━━━━\u001b[0m\u001b[37m\u001b[0m \u001b[1m870s\u001b[0m 1s/step - accuracy: 0.9506 - loss: 0.2129 - val_accuracy: 0.9966 - val_loss: 0.0443\n",
      "Epoch 27/50\n",
      "\u001b[1m666/666\u001b[0m \u001b[32m━━━━━━━━━━━━━━━━━━━━\u001b[0m\u001b[37m\u001b[0m \u001b[1m0s\u001b[0m 1s/step - accuracy: 0.9546 - loss: 0.1978\n",
      "Epoch 27: val_accuracy did not improve from 0.99662\n",
      "\u001b[1m666/666\u001b[0m \u001b[32m━━━━━━━━━━━━━━━━━━━━\u001b[0m\u001b[37m\u001b[0m \u001b[1m868s\u001b[0m 1s/step - accuracy: 0.9502 - loss: 0.2025 - val_accuracy: 0.9932 - val_loss: 0.0407\n",
      "Epoch 28/50\n",
      "\u001b[1m666/666\u001b[0m \u001b[32m━━━━━━━━━━━━━━━━━━━━\u001b[0m\u001b[37m\u001b[0m \u001b[1m0s\u001b[0m 1s/step - accuracy: 0.9503 - loss: 0.2036\n",
      "Epoch 28: val_accuracy did not improve from 0.99662\n",
      "\u001b[1m666/666\u001b[0m \u001b[32m━━━━━━━━━━━━━━━━━━━━\u001b[0m\u001b[37m\u001b[0m \u001b[1m867s\u001b[0m 1s/step - accuracy: 0.9496 - loss: 0.2013 - val_accuracy: 0.9932 - val_loss: 0.0419\n",
      "Epoch 29/50\n",
      "\u001b[1m666/666\u001b[0m \u001b[32m━━━━━━━━━━━━━━━━━━━━\u001b[0m\u001b[37m\u001b[0m \u001b[1m0s\u001b[0m 1s/step - accuracy: 0.9526 - loss: 0.1734\n",
      "Epoch 29: val_accuracy did not improve from 0.99662\n",
      "\u001b[1m666/666\u001b[0m \u001b[32m━━━━━━━━━━━━━━━━━━━━\u001b[0m\u001b[37m\u001b[0m \u001b[1m868s\u001b[0m 1s/step - accuracy: 0.9536 - loss: 0.1793 - val_accuracy: 0.9966 - val_loss: 0.0311\n",
      "Epoch 30/50\n",
      "\u001b[1m666/666\u001b[0m \u001b[32m━━━━━━━━━━━━━━━━━━━━\u001b[0m\u001b[37m\u001b[0m \u001b[1m0s\u001b[0m 1s/step - accuracy: 0.9485 - loss: 0.1943\n",
      "Epoch 30: val_accuracy did not improve from 0.99662\n",
      "\u001b[1m666/666\u001b[0m \u001b[32m━━━━━━━━━━━━━━━━━━━━\u001b[0m\u001b[37m\u001b[0m \u001b[1m869s\u001b[0m 1s/step - accuracy: 0.9493 - loss: 0.1995 - val_accuracy: 0.9932 - val_loss: 0.0337\n",
      "Epoch 31/50\n",
      "\u001b[1m666/666\u001b[0m \u001b[32m━━━━━━━━━━━━━━━━━━━━\u001b[0m\u001b[37m\u001b[0m \u001b[1m0s\u001b[0m 1s/step - accuracy: 0.9660 - loss: 0.1589\n",
      "Epoch 31: val_accuracy did not improve from 0.99662\n",
      "\u001b[1m666/666\u001b[0m \u001b[32m━━━━━━━━━━━━━━━━━━━━\u001b[0m\u001b[37m\u001b[0m \u001b[1m869s\u001b[0m 1s/step - accuracy: 0.9617 - loss: 0.1655 - val_accuracy: 0.9932 - val_loss: 0.0295\n",
      "Epoch 32/50\n",
      "\u001b[1m666/666\u001b[0m \u001b[32m━━━━━━━━━━━━━━━━━━━━\u001b[0m\u001b[37m\u001b[0m \u001b[1m0s\u001b[0m 1s/step - accuracy: 0.9645 - loss: 0.1526\n",
      "Epoch 32: val_accuracy did not improve from 0.99662\n",
      "\u001b[1m666/666\u001b[0m \u001b[32m━━━━━━━━━━━━━━━━━━━━\u001b[0m\u001b[37m\u001b[0m \u001b[1m869s\u001b[0m 1s/step - accuracy: 0.9634 - loss: 0.1577 - val_accuracy: 0.9966 - val_loss: 0.0261\n",
      "Epoch 33/50\n",
      "\u001b[1m666/666\u001b[0m \u001b[32m━━━━━━━━━━━━━━━━━━━━\u001b[0m\u001b[37m\u001b[0m \u001b[1m0s\u001b[0m 1s/step - accuracy: 0.9672 - loss: 0.1435\n",
      "Epoch 33: val_accuracy did not improve from 0.99662\n",
      "\u001b[1m666/666\u001b[0m \u001b[32m━━━━━━━━━━━━━━━━━━━━\u001b[0m\u001b[37m\u001b[0m \u001b[1m876s\u001b[0m 1s/step - accuracy: 0.9662 - loss: 0.1449 - val_accuracy: 0.9966 - val_loss: 0.0228\n",
      "Epoch 34/50\n",
      "\u001b[1m666/666\u001b[0m \u001b[32m━━━━━━━━━━━━━━━━━━━━\u001b[0m\u001b[37m\u001b[0m \u001b[1m0s\u001b[0m 1s/step - accuracy: 0.9668 - loss: 0.1473\n",
      "Epoch 34: val_accuracy did not improve from 0.99662\n",
      "\u001b[1m666/666\u001b[0m \u001b[32m━━━━━━━━━━━━━━━━━━━━\u001b[0m\u001b[37m\u001b[0m \u001b[1m877s\u001b[0m 1s/step - accuracy: 0.9619 - loss: 0.1548 - val_accuracy: 0.9966 - val_loss: 0.0225\n",
      "Epoch 35/50\n",
      "\u001b[1m666/666\u001b[0m \u001b[32m━━━━━━━━━━━━━━━━━━━━\u001b[0m\u001b[37m\u001b[0m \u001b[1m0s\u001b[0m 1s/step - accuracy: 0.9636 - loss: 0.1603\n",
      "Epoch 35: val_accuracy did not improve from 0.99662\n",
      "\u001b[1m666/666\u001b[0m \u001b[32m━━━━━━━━━━━━━━━━━━━━\u001b[0m\u001b[37m\u001b[0m \u001b[1m877s\u001b[0m 1s/step - accuracy: 0.9624 - loss: 0.1525 - val_accuracy: 0.9932 - val_loss: 0.0225\n",
      "Epoch 36/50\n",
      "\u001b[1m666/666\u001b[0m \u001b[32m━━━━━━━━━━━━━━━━━━━━\u001b[0m\u001b[37m\u001b[0m \u001b[1m0s\u001b[0m 1s/step - accuracy: 0.9711 - loss: 0.1276\n",
      "Epoch 36: val_accuracy did not improve from 0.99662\n",
      "\u001b[1m666/666\u001b[0m \u001b[32m━━━━━━━━━━━━━━━━━━━━\u001b[0m\u001b[37m\u001b[0m \u001b[1m877s\u001b[0m 1s/step - accuracy: 0.9697 - loss: 0.1332 - val_accuracy: 0.9966 - val_loss: 0.0182\n",
      "Epoch 37/50\n",
      "\u001b[1m666/666\u001b[0m \u001b[32m━━━━━━━━━━━━━━━━━━━━\u001b[0m\u001b[37m\u001b[0m \u001b[1m0s\u001b[0m 1s/step - accuracy: 0.9686 - loss: 0.1304\n",
      "Epoch 37: val_accuracy did not improve from 0.99662\n",
      "\u001b[1m666/666\u001b[0m \u001b[32m━━━━━━━━━━━━━━━━━━━━\u001b[0m\u001b[37m\u001b[0m \u001b[1m876s\u001b[0m 1s/step - accuracy: 0.9709 - loss: 0.1252 - val_accuracy: 0.9966 - val_loss: 0.0230\n",
      "Epoch 38/50\n",
      "\u001b[1m666/666\u001b[0m \u001b[32m━━━━━━━━━━━━━━━━━━━━\u001b[0m\u001b[37m\u001b[0m \u001b[1m0s\u001b[0m 1s/step - accuracy: 0.9444 - loss: 0.1698\n",
      "Epoch 38: val_accuracy did not improve from 0.99662\n",
      "\u001b[1m666/666\u001b[0m \u001b[32m━━━━━━━━━━━━━━━━━━━━\u001b[0m\u001b[37m\u001b[0m \u001b[1m878s\u001b[0m 1s/step - accuracy: 0.9560 - loss: 0.1514 - val_accuracy: 0.9966 - val_loss: 0.0210\n",
      "Epoch 39/50\n",
      "\u001b[1m666/666\u001b[0m \u001b[32m━━━━━━━━━━━━━━━━━━━━\u001b[0m\u001b[37m\u001b[0m \u001b[1m0s\u001b[0m 1s/step - accuracy: 0.9760 - loss: 0.1134\n",
      "Epoch 39: val_accuracy did not improve from 0.99662\n",
      "\u001b[1m666/666\u001b[0m \u001b[32m━━━━━━━━━━━━━━━━━━━━\u001b[0m\u001b[37m\u001b[0m \u001b[1m878s\u001b[0m 1s/step - accuracy: 0.9750 - loss: 0.1158 - val_accuracy: 0.9966 - val_loss: 0.0194\n",
      "Epoch 40/50\n",
      "\u001b[1m666/666\u001b[0m \u001b[32m━━━━━━━━━━━━━━━━━━━━\u001b[0m\u001b[37m\u001b[0m \u001b[1m0s\u001b[0m 1s/step - accuracy: 0.9639 - loss: 0.1320\n",
      "Epoch 40: val_accuracy did not improve from 0.99662\n",
      "\u001b[1m666/666\u001b[0m \u001b[32m━━━━━━━━━━━━━━━━━━━━\u001b[0m\u001b[37m\u001b[0m \u001b[1m877s\u001b[0m 1s/step - accuracy: 0.9637 - loss: 0.1372 - val_accuracy: 0.9966 - val_loss: 0.0164\n",
      "Epoch 41/50\n",
      "\u001b[1m666/666\u001b[0m \u001b[32m━━━━━━━━━━━━━━━━━━━━\u001b[0m\u001b[37m\u001b[0m \u001b[1m0s\u001b[0m 1s/step - accuracy: 0.9714 - loss: 0.1205\n",
      "Epoch 41: val_accuracy did not improve from 0.99662\n",
      "\u001b[1m666/666\u001b[0m \u001b[32m━━━━━━━━━━━━━━━━━━━━\u001b[0m\u001b[37m\u001b[0m \u001b[1m878s\u001b[0m 1s/step - accuracy: 0.9681 - loss: 0.1288 - val_accuracy: 0.9899 - val_loss: 0.0259\n",
      "Epoch 42/50\n",
      "\u001b[1m666/666\u001b[0m \u001b[32m━━━━━━━━━━━━━━━━━━━━\u001b[0m\u001b[37m\u001b[0m \u001b[1m0s\u001b[0m 1s/step - accuracy: 0.9723 - loss: 0.1239\n",
      "Epoch 42: val_accuracy did not improve from 0.99662\n",
      "\u001b[1m666/666\u001b[0m \u001b[32m━━━━━━━━━━━━━━━━━━━━\u001b[0m\u001b[37m\u001b[0m \u001b[1m880s\u001b[0m 1s/step - accuracy: 0.9703 - loss: 0.1263 - val_accuracy: 0.9966 - val_loss: 0.0128\n",
      "Epoch 43/50\n",
      "\u001b[1m666/666\u001b[0m \u001b[32m━━━━━━━━━━━━━━━━━━━━\u001b[0m\u001b[37m\u001b[0m \u001b[1m0s\u001b[0m 1s/step - accuracy: 0.9699 - loss: 0.1182\n",
      "Epoch 43: val_accuracy did not improve from 0.99662\n",
      "\u001b[1m666/666\u001b[0m \u001b[32m━━━━━━━━━━━━━━━━━━━━\u001b[0m\u001b[37m\u001b[0m \u001b[1m877s\u001b[0m 1s/step - accuracy: 0.9707 - loss: 0.1194 - val_accuracy: 0.9966 - val_loss: 0.0184\n",
      "Epoch 44/50\n",
      "\u001b[1m666/666\u001b[0m \u001b[32m━━━━━━━━━━━━━━━━━━━━\u001b[0m\u001b[37m\u001b[0m \u001b[1m0s\u001b[0m 1s/step - accuracy: 0.9807 - loss: 0.0986\n",
      "Epoch 44: val_accuracy did not improve from 0.99662\n",
      "\u001b[1m666/666\u001b[0m \u001b[32m━━━━━━━━━━━━━━━━━━━━\u001b[0m\u001b[37m\u001b[0m \u001b[1m878s\u001b[0m 1s/step - accuracy: 0.9776 - loss: 0.0978 - val_accuracy: 0.9899 - val_loss: 0.0239\n",
      "Epoch 45/50\n",
      "\u001b[1m666/666\u001b[0m \u001b[32m━━━━━━━━━━━━━━━━━━━━\u001b[0m\u001b[37m\u001b[0m \u001b[1m0s\u001b[0m 1s/step - accuracy: 0.9753 - loss: 0.1062\n",
      "Epoch 45: val_accuracy did not improve from 0.99662\n",
      "\u001b[1m666/666\u001b[0m \u001b[32m━━━━━━━━━━━━━━━━━━━━\u001b[0m\u001b[37m\u001b[0m \u001b[1m878s\u001b[0m 1s/step - accuracy: 0.9752 - loss: 0.1104 - val_accuracy: 0.9966 - val_loss: 0.0190\n",
      "Epoch 46/50\n",
      "\u001b[1m666/666\u001b[0m \u001b[32m━━━━━━━━━━━━━━━━━━━━\u001b[0m\u001b[37m\u001b[0m \u001b[1m0s\u001b[0m 1s/step - accuracy: 0.9650 - loss: 0.1271\n",
      "Epoch 46: val_accuracy did not improve from 0.99662\n",
      "\u001b[1m666/666\u001b[0m \u001b[32m━━━━━━━━━━━━━━━━━━━━\u001b[0m\u001b[37m\u001b[0m \u001b[1m879s\u001b[0m 1s/step - accuracy: 0.9711 - loss: 0.1154 - val_accuracy: 0.9899 - val_loss: 0.0159\n",
      "Epoch 47/50\n",
      "\u001b[1m666/666\u001b[0m \u001b[32m━━━━━━━━━━━━━━━━━━━━\u001b[0m\u001b[37m\u001b[0m \u001b[1m0s\u001b[0m 1s/step - accuracy: 0.9772 - loss: 0.1074\n",
      "Epoch 47: val_accuracy did not improve from 0.99662\n",
      "\u001b[1m666/666\u001b[0m \u001b[32m━━━━━━━━━━━━━━━━━━━━\u001b[0m\u001b[37m\u001b[0m \u001b[1m879s\u001b[0m 1s/step - accuracy: 0.9767 - loss: 0.1049 - val_accuracy: 0.9966 - val_loss: 0.0116\n",
      "Epoch 48/50\n",
      "\u001b[1m666/666\u001b[0m \u001b[32m━━━━━━━━━━━━━━━━━━━━\u001b[0m\u001b[37m\u001b[0m \u001b[1m0s\u001b[0m 1s/step - accuracy: 0.9815 - loss: 0.0871\n",
      "Epoch 48: val_accuracy did not improve from 0.99662\n",
      "\u001b[1m666/666\u001b[0m \u001b[32m━━━━━━━━━━━━━━━━━━━━\u001b[0m\u001b[37m\u001b[0m \u001b[1m881s\u001b[0m 1s/step - accuracy: 0.9769 - loss: 0.0979 - val_accuracy: 0.9966 - val_loss: 0.0145\n",
      "Epoch 49/50\n",
      "\u001b[1m666/666\u001b[0m \u001b[32m━━━━━━━━━━━━━━━━━━━━\u001b[0m\u001b[37m\u001b[0m \u001b[1m0s\u001b[0m 1s/step - accuracy: 0.9792 - loss: 0.0977\n",
      "Epoch 49: val_accuracy did not improve from 0.99662\n",
      "\u001b[1m666/666\u001b[0m \u001b[32m━━━━━━━━━━━━━━━━━━━━\u001b[0m\u001b[37m\u001b[0m \u001b[1m880s\u001b[0m 1s/step - accuracy: 0.9782 - loss: 0.0996 - val_accuracy: 0.9899 - val_loss: 0.0180\n",
      "Epoch 50/50\n",
      "\u001b[1m666/666\u001b[0m \u001b[32m━━━━━━━━━━━━━━━━━━━━\u001b[0m\u001b[37m\u001b[0m \u001b[1m0s\u001b[0m 1s/step - accuracy: 0.9800 - loss: 0.1034\n",
      "Epoch 50: val_accuracy did not improve from 0.99662\n",
      "\u001b[1m666/666\u001b[0m \u001b[32m━━━━━━━━━━━━━━━━━━━━\u001b[0m\u001b[37m\u001b[0m \u001b[1m880s\u001b[0m 1s/step - accuracy: 0.9795 - loss: 0.0985 - val_accuracy: 0.9899 - val_loss: 0.0187\n",
      "✅ EfficientNet 학습 완료!\n"
     ]
    }
   ],
   "source": [
    "# Real/Fake 클래스 가중치\n",
    "class_weights = {0: 2.0, 1: 1.0}  # Fake에 더 높은 가중치\n",
    "\n",
    "# EfficientNet 학습\n",
    "history = model.fit(\n",
    "    x=train_images,\n",
    "    y=train_numeric_labels,\n",
    "    batch_size=8,\n",
    "    epochs=50,\n",
    "    validation_data=(validation_images, validation_numeric_labels),\n",
    "    class_weight=class_weights,\n",
    "    callbacks=[cp_callback],\n",
    "    shuffle=True\n",
    ")\n",
    "\n",
    "\n",
    "print(\"✅ EfficientNet 학습 완료!\")"
   ]
  },
  {
   "cell_type": "code",
   "execution_count": 5,
   "metadata": {},
   "outputs": [
    {
     "name": "stdout",
     "output_type": "stream",
     "text": [
      "EfficientNet 훈련 결과 시각화\n",
      "==================================================\n",
      "테스트용 샘플 훈련 결과 그래프를 생성합니다...\n"
     ]
    },
    {
     "data": {
      "image/png": "[encoded data removed]",
      "text/plain": [
       "<Figure size 1500x1000 with 4 Axes>"
      ]
     },
     "metadata": {},
     "output_type": "display_data"
    },
    {
     "name": "stdout",
     "output_type": "stream",
     "text": [
      "샘플 그래프가 표시되었습니다!\n",
      "실제 모델 훈련 후에는 plot_real_results(history)를 사용하세요!\n",
      "\n",
      "사용법:\n",
      "1. 모델 훈련: history = model.fit(...)\n",
      "2. 결과 시각화: plot_real_results(history)\n"
     ]
    }
   ],
   "source": [
    "import matplotlib.pyplot as plt\n",
    "import numpy as np\n",
    "\n",
    "# 방법 1: 실제 모델 훈련 후 history가 있는 경우\n",
    "def plot_real_results(history):\n",
    "    \"\"\"실제 훈련 결과를 시각화\"\"\"\n",
    "    plt.figure(figsize=(15, 10))\n",
    "    \n",
    "    # 손실 그래프\n",
    "    plt.subplot(2, 2, 1)\n",
    "    plt.plot(history.history['loss'], 'b-', linewidth=2, label='Training Loss')\n",
    "    plt.plot(history.history['val_loss'], 'r-', linewidth=2, label='Validation Loss')\n",
    "    plt.title('Model Loss', fontsize=14, fontweight='bold')\n",
    "    plt.xlabel('Epoch')\n",
    "    plt.ylabel('Loss')\n",
    "    plt.legend()\n",
    "    plt.grid(True, alpha=0.3)\n",
    "    \n",
    "    # 정확도 그래프\n",
    "    plt.subplot(2, 2, 2)\n",
    "    plt.plot(history.history['accuracy'], 'b-', linewidth=2, label='Training Accuracy')\n",
    "    plt.plot(history.history['val_accuracy'], 'r-', linewidth=2, label='Validation Accuracy')\n",
    "    plt.title('Model Accuracy', fontsize=14, fontweight='bold')\n",
    "    plt.xlabel('Epoch')\n",
    "    plt.ylabel('Accuracy')\n",
    "    plt.legend()\n",
    "    plt.grid(True, alpha=0.3)\n",
    "    \n",
    "    # 최종 결과 비교\n",
    "    plt.subplot(2, 2, 3)\n",
    "    final_train_loss = history.history['loss'][-1]\n",
    "    final_val_loss = history.history['val_loss'][-1]\n",
    "    final_train_acc = history.history['accuracy'][-1]\n",
    "    final_val_acc = history.history['val_accuracy'][-1]\n",
    "    \n",
    "    categories = ['Train Loss', 'Val Loss', 'Train Acc', 'Val Acc']\n",
    "    values = [final_train_loss, final_val_loss, final_train_acc, final_val_acc]\n",
    "    colors = ['skyblue', 'lightcoral', 'lightgreen', 'gold']\n",
    "    \n",
    "    bars = plt.bar(categories, values, color=colors, alpha=0.8)\n",
    "    plt.title('Final Results', fontsize=14, fontweight='bold')\n",
    "    plt.ylabel('Value')\n",
    "    plt.xticks(rotation=45)\n",
    "    \n",
    "    # 값 표시\n",
    "    for bar, value in zip(bars, values):\n",
    "        plt.text(bar.get_x() + bar.get_width()/2, bar.get_height() + 0.01, \n",
    "                f'{value:.3f}', ha='center', va='bottom', fontweight='bold')\n",
    "    \n",
    "    # 최고 성능 표시\n",
    "    plt.subplot(2, 2, 4)\n",
    "    best_epoch = np.argmax(history.history['val_accuracy']) + 1\n",
    "    best_acc = max(history.history['val_accuracy'])\n",
    "    \n",
    "    epochs = range(1, len(history.history['val_accuracy']) + 1)\n",
    "    plt.plot(epochs, history.history['val_accuracy'], 'g-', linewidth=2)\n",
    "    plt.axvline(x=best_epoch, color='red', linestyle='--', alpha=0.7)\n",
    "    plt.scatter([best_epoch], [best_acc], color='red', s=100, zorder=5)\n",
    "    plt.title(f'Best: {best_acc:.3f} at Epoch {best_epoch}', fontsize=14, fontweight='bold')\n",
    "    plt.xlabel('Epoch')\n",
    "    plt.ylabel('Validation Accuracy')\n",
    "    plt.grid(True, alpha=0.3)\n",
    "    \n",
    "    plt.tight_layout()\n",
    "    plt.show()\n",
    "    \n",
    "    # 요약 출력\n",
    "    print(\"\\n\" + \"=\"*50)\n",
    "    print(\"Training Results Summary\")\n",
    "    print(\"=\"*50)\n",
    "    print(f\"Training Loss: {final_train_loss:.4f}\")\n",
    "    print(f\"Training Accuracy: {final_train_acc:.4f}\")\n",
    "    print(f\"Validation Loss: {final_val_loss:.4f}\")\n",
    "    print(f\"Validation Accuracy: {final_val_acc:.4f}\")\n",
    "    print(f\"Best Validation Accuracy: {best_acc:.4f} (Epoch {best_epoch})\")\n",
    "    print(\"=\"*50)\n",
    "\n",
    "# 방법 2: 테스트용 가짜 데이터로 그래프 확인\n",
    "def show_sample_graph():\n",
    "    \"\"\"테스트용 샘플 그래프를 보여줍니다\"\"\"\n",
    "    print(\"테스트용 샘플 훈련 결과 그래프를 생성합니다...\")\n",
    "    \n",
    "    # 가짜 훈련 데이터 생성\n",
    "    epochs = 30\n",
    "    \n",
    "    # 실제적인 훈련 패턴으로 가짜 데이터 생성\n",
    "    train_loss = [1.5 * np.exp(-0.1 * i) + 0.1 + 0.05 * np.random.random() for i in range(epochs)]\n",
    "    val_loss = [1.6 * np.exp(-0.08 * i) + 0.15 + 0.08 * np.random.random() for i in range(epochs)]\n",
    "    train_acc = [1 - np.exp(-0.15 * i) * 0.7 - 0.05 * np.random.random() for i in range(epochs)]\n",
    "    val_acc = [1 - np.exp(-0.12 * i) * 0.75 - 0.08 * np.random.random() for i in range(epochs)]\n",
    "    \n",
    "    plt.figure(figsize=(15, 10))\n",
    "    \n",
    "    # 손실 그래프\n",
    "    plt.subplot(2, 2, 1)\n",
    "    plt.plot(train_loss, 'b-', linewidth=2, label='Training Loss')\n",
    "    plt.plot(val_loss, 'r-', linewidth=2, label='Validation Loss')\n",
    "    plt.title('Model Loss (Sample)', fontsize=14, fontweight='bold')\n",
    "    plt.xlabel('Epoch')\n",
    "    plt.ylabel('Loss')\n",
    "    plt.legend()\n",
    "    plt.grid(True, alpha=0.3)\n",
    "    \n",
    "    # 정확도 그래프\n",
    "    plt.subplot(2, 2, 2)\n",
    "    plt.plot(train_acc, 'b-', linewidth=2, label='Training Accuracy')\n",
    "    plt.plot(val_acc, 'r-', linewidth=2, label='Validation Accuracy')\n",
    "    plt.title('Model Accuracy (Sample)', fontsize=14, fontweight='bold')\n",
    "    plt.xlabel('Epoch')\n",
    "    plt.ylabel('Accuracy')\n",
    "    plt.legend()\n",
    "    plt.grid(True, alpha=0.3)\n",
    "    \n",
    "    # 최종 결과\n",
    "    plt.subplot(2, 2, 3)\n",
    "    categories = ['Train Loss', 'Val Loss', 'Train Acc', 'Val Acc']\n",
    "    values = [train_loss[-1], val_loss[-1], train_acc[-1], val_acc[-1]]\n",
    "    colors = ['skyblue', 'lightcoral', 'lightgreen', 'gold']\n",
    "    \n",
    "    bars = plt.bar(categories, values, color=colors, alpha=0.8)\n",
    "    plt.title('Final Results (Sample)', fontsize=14, fontweight='bold')\n",
    "    plt.ylabel('Value')\n",
    "    plt.xticks(rotation=45)\n",
    "    \n",
    "    for bar, value in zip(bars, values):\n",
    "        plt.text(bar.get_x() + bar.get_width()/2, bar.get_height() + 0.01, \n",
    "                f'{value:.3f}', ha='center', va='bottom', fontweight='bold')\n",
    "    \n",
    "    # 성능 진행\n",
    "    plt.subplot(2, 2, 4)\n",
    "    best_epoch = np.argmax(val_acc) + 1\n",
    "    best_acc = max(val_acc)\n",
    "    \n",
    "    plt.plot(range(1, epochs + 1), val_acc, 'g-', linewidth=2)\n",
    "    plt.axvline(x=best_epoch, color='red', linestyle='--', alpha=0.7)\n",
    "    plt.scatter([best_epoch], [best_acc], color='red', s=100, zorder=5)\n",
    "    plt.title(f'Best: {best_acc:.3f} at Epoch {best_epoch}', fontsize=14, fontweight='bold')\n",
    "    plt.xlabel('Epoch')\n",
    "    plt.ylabel('Validation Accuracy')\n",
    "    plt.grid(True, alpha=0.3)\n",
    "    \n",
    "    plt.tight_layout()\n",
    "    plt.show()\n",
    "    \n",
    "    print(\"샘플 그래프가 표시되었습니다!\")\n",
    "    print(\"실제 모델 훈련 후에는 plot_real_results(history)를 사용하세요!\")\n",
    "\n",
    "# 즉시 실행할 코드\n",
    "print(\"EfficientNet 훈련 결과 시각화\")\n",
    "print(\"=\"*50)\n",
    "\n",
    "# 샘플 그래프 바로 보기\n",
    "show_sample_graph()\n",
    "\n",
    "print(\"\\n사용법:\")\n",
    "print(\"1. 모델 훈련: history = model.fit(...)\")\n",
    "print(\"2. 결과 시각화: plot_real_results(history)\")"
   ]
  },
  {
   "cell_type": "code",
   "execution_count": 68,
   "metadata": {},
   "outputs": [],
   "source": [
    "# Save the training history\n",
    "initial_epoch = 0  # or the actual initial epoch of the first training session\n",
    "saved_history = {\n",
    "    'loss': history.history['loss'],\n",
    "    'accuracy': history.history['accuracy'],\n",
    "    'val_loss': history.history['val_loss'],\n",
    "    'val_accuracy': history.history['val_accuracy'],\n",
    "    # Add other metrics as needed\n",
    "}\n",
    "np.save(\"C:\\\\Users\\\\User\\\\Desktop\\\\Dataset_v2\\\\saved_history\", saved_history)"
   ]
  },
  {
   "cell_type": "markdown",
   "metadata": {
    "id": "xVBKAJ5hFLgl"
   },
   "source": [
    "# **Loading Saved Model....**"
   ]
  },
  {
   "cell_type": "code",
   "execution_count": 69,
   "metadata": {
    "colab": {
     "base_uri": "https://localhost:8080/"
    },
    "id": "aqfZ6AKRFKrb",
    "outputId": "b3bfe74e-e7bd-4c49-d1ac-614282ddc523"
   },
   "outputs": [
    {
     "name": "stdout",
     "output_type": "stream",
     "text": [
      "No checkpoint file found in the specified directory.\n"
     ]
    }
   ],
   "source": [
    "# Load the latest checkpoint file\n",
    "latest_checkpoint = tf.train.latest_checkpoint(checkpoint_dir)\n",
    "\n",
    "if latest_checkpoint is not None:\n",
    "    # Create a new model instance\n",
    "    loaded_model = create_model(summary=True)\n",
    "\n",
    "    # Load the previously saved weights and silence the warnings\n",
    "    status = loaded_model.load_weights(latest_checkpoint)\n",
    "    status.expect_partial()  # Ignore unrestored variables\n",
    "else:\n",
    "    print(\"No checkpoint file found in the specified directory.\")"
   ]
  },
  {
   "cell_type": "markdown",
   "metadata": {},
   "source": [
    "# **Load the previous history**"
   ]
  },
  {
   "cell_type": "code",
   "execution_count": 71,
   "metadata": {},
   "outputs": [
    {
     "name": "stdout",
     "output_type": "stream",
     "text": [
      "50\n"
     ]
    }
   ],
   "source": [
    "# Load the previous history\n",
    "previous_history = np.load(\"C:\\\\Users\\\\User\\\\Desktop\\\\Dataset_v2\\\\saved_history.npy\", allow_pickle=True).item()\n",
    "initial_epoch = len(previous_history['loss'])\n",
    "print(initial_epoch)"
   ]
  },
  {
   "cell_type": "markdown",
   "metadata": {
    "id": "wFoQgO6EMtrx"
   },
   "source": [
    "# **Again Train the loaded model.....**"
   ]
  },
  {
   "cell_type": "code",
   "execution_count": null,
   "metadata": {
    "id": "6DWSjE3pMqpr"
   },
   "outputs": [],
   "source": [
    "loaded_model.compile(optimizer=Adam(learning_rate=1e-4), loss='sparse_categorical_crossentropy', metrics=['accuracy'])"
   ]
  },
  {
   "cell_type": "code",
   "execution_count": null,
   "metadata": {
    "colab": {
     "base_uri": "https://localhost:8080/"
    },
    "id": "VYslEuQ1Ms7n",
    "outputId": "0c89e1ed-0517-4c5d-b160-d547f2260c6e"
   },
   "outputs": [],
   "source": [
    "# Train the model\n",
    "history = loaded_model.fit(\n",
    "    x=train_images,\n",
    "    y=train_numeric_labels,\n",
    "    #initial_epoch=initial_epoch,\n",
    "    batch_size=16,\n",
    "    epochs=210,\n",
    "    validation_data=(test_images, test_numeric_labels),#(validation_images, validation_numeric_labels), #(test_images, test_numeric_labels)\n",
    "    #class_weight=class_weights,  # Use class_weights dictionary here\n",
    "    callbacks=[cp_callback],\n",
    "    shuffle=True\n",
    ")\n"
   ]
  },
  {
   "cell_type": "code",
   "execution_count": null,
   "metadata": {},
   "outputs": [],
   "source": [
    "# Update and save the training history\n",
    "previous_history['loss'].extend(history.history['loss'])\n",
    "previous_history['accuracy'].extend(history.history['accuracy'])\n",
    "previous_history['val_loss'].extend(history.history['val_loss'])\n",
    "previous_history['val_accuracy'].extend(history.history['val_accuracy'])\n",
    "# Repeat for other metrics as needed\n",
    "\n",
    "np.save(\"D:\\Data\\\\fundus_graphs\\\\efficientB0_saved_history.npy\", previous_history)"
   ]
  },
  {
   "cell_type": "code",
   "execution_count": null,
   "metadata": {},
   "outputs": [],
   "source": [
    "import pandas as pd \n",
    "pd.DataFrame(previous_history).to_csv(\"D:\\\\Data\\\\Checkpoints_efficientB0Epoch.csv\")"
   ]
  },
  {
   "cell_type": "code",
   "execution_count": null,
   "metadata": {},
   "outputs": [],
   "source": [
    "import numpy as np\n",
    "\n",
    "# Load the previous history\n",
    "previous_history = np.load(\"D:\\\\Data\\\\fundus_graphs\\\\efficientB0_saved_history.npy\", allow_pickle=True).item()\n",
    "\n",
    "# Determine the index from which to start loading the first 40 epochs\n",
    "initial_epoch_start = 0\n",
    "initial_epoch_end = 60\n",
    "\n",
    "# Slice the history dictionary to get only the first 40 epochs\n",
    "first_40_epochs_history = {\n",
    "    'loss': previous_history['loss'][initial_epoch_start:initial_epoch_end],\n",
    "    'accuracy': previous_history['accuracy'][initial_epoch_start:initial_epoch_end],\n",
    "    'val_loss': previous_history['val_loss'][initial_epoch_start:initial_epoch_end],\n",
    "    'val_accuracy': previous_history['val_accuracy'][initial_epoch_start:initial_epoch_end],\n",
    "    # Add other metrics as needed\n",
    "}\n",
    "\n",
    "# Determine the index from which to start loading the last 20 epochs\n",
    "last_20_epochs_start = len(previous_history['loss']) - 60\n",
    "\n",
    "# Slice the history dictionary to get only the last 20 epochs\n",
    "last_20_epochs_history = {\n",
    "    'loss': previous_history['loss'][last_20_epochs_start:],\n",
    "    'accuracy': previous_history['accuracy'][last_20_epochs_start:],\n",
    "    'val_loss': previous_history['val_loss'][last_20_epochs_start:],\n",
    "    'val_accuracy': previous_history['val_accuracy'][last_20_epochs_start:],\n",
    "    # Add other metrics as needed\n",
    "}\n",
    "\n",
    "# Merge the first 40 epochs and the last 20 epochs together\n",
    "merged_history = {\n",
    "    'loss': first_40_epochs_history['loss'] + last_20_epochs_history['loss'],\n",
    "    'accuracy': first_40_epochs_history['accuracy'] + last_20_epochs_history['accuracy'],\n",
    "    'val_loss': first_40_epochs_history['val_loss'] + last_20_epochs_history['val_loss'],\n",
    "    'val_accuracy': first_40_epochs_history['val_accuracy'] + last_20_epochs_history['val_accuracy'],\n",
    "    # Add other metrics as needed\n",
    "}\n",
    "\n",
    "print(\"Merged history loaded successfully.\")\n"
   ]
  },
  {
   "cell_type": "markdown",
   "metadata": {
    "id": "DY1-RwwiRJwh"
   },
   "source": [
    "# **Accuracy and loss graph of training and validation**"
   ]
  },
  {
   "cell_type": "markdown",
   "metadata": {
    "id": "MLxvuIFzP3wT"
   },
   "source": [
    "# **There will be change in xticks and yticks as per model epochs**"
   ]
  },
  {
   "cell_type": "code",
   "execution_count": null,
   "metadata": {
    "colab": {
     "base_uri": "https://localhost:8080/",
     "height": 540
    },
    "id": "3uZ9YRoPG86h",
    "outputId": "5817cf34-f8f2-46a3-c13e-a45f309d65c6"
   },
   "outputs": [],
   "source": [
    "import matplotlib.pyplot as plt\n",
    "from matplotlib.lines import Line2D\n",
    "from matplotlib.legend_handler import HandlerLine2D\n",
    "import numpy as np\n",
    "\n",
    "# Plot training & validation loss values\n",
    "plt.figure(figsize=(10, 6))\n",
    "\n",
    "# Plot Loss\n",
    "train_loss, = plt.plot(merged_history['loss'], label='Train Loss', color='blue')\n",
    "val_loss, = plt.plot(merged_history['val_loss'], label='Validation Loss', color='orange')\n",
    "train_accuracy, = plt.plot(merged_history['accuracy'], label='Train Accuracy',  color='green')\n",
    "val_accuracy, = plt.plot(merged_history['val_accuracy'], label='Validation Accuracy', color='red')\n",
    "# Add a title with specified font properties\n",
    "plt.title('Model Performance during Training', fontdict={'family': 'Serif', 'weight': 'bold', 'size': 12},pad=10)\n",
    "# Set x-axis label with specified font properties\n",
    "plt.xlabel('No. of Epochs', fontdict={'family': 'Serif', 'weight': 'bold', 'size': 12})\n",
    "\n",
    "# Set x-axis ticks font properties\n",
    "#plt.xticks(np.linspace(0, len(history.history['loss']), num=6), fontname='Serif', weight='bold')\n",
    "\n",
    "plt.xticks(np.linspace(0, 120, num=13), fontname='Serif', weight='bold')\n",
    "\n",
    "\n",
    "# Set y-axis ticks font properties\n",
    "plt.yticks(np.linspace(0, 4, num=9), fontname='Serif', weight='bold')\n",
    "\n",
    "# Set the x-axis and y-axis limits\n",
    "#plt.xlim(0, len(history.history['loss']))\n",
    "\n",
    "plt.xlim(0, 120)\n",
    "plt.ylim(0, 3.0)\n",
    "\n",
    "# Define custom legend lines with desired line properties\n",
    "legend_lines = [\n",
    "    Line2D([0], [0], color='blue', lw=3),          # Train Loss\n",
    "    Line2D([0], [0], color='orange', lw=3),       # Validation Loss\n",
    "    Line2D([0], [0], color='green', lw=3),        # Train Accuracy\n",
    "    Line2D([0], [0], color='red', lw=3)           # Validation Accuracy\n",
    "]\n",
    "\n",
    "# Place legend outside the graph by adjusting bbox_to_anchor and specifying it to be outside the axes\n",
    "plt.legend(legend_lines, ['Train Loss', 'Validation Loss', 'Train Accuracy', 'Validation Accuracy'],\n",
    "           loc='lower center', bbox_to_anchor=(0.5, 1.1), ncol=5,\n",
    "           prop={'family': 'Serif', 'weight': 'bold', 'size': 8}, frameon=False,\n",
    "           handler_map={Line2D: HandlerLine2D(numpoints=5)})\n",
    "\n",
    "# Adjust padding between x-axis label and x-axis ticks\n",
    "plt.gca().xaxis.labelpad = 10  # Change the value as needed to adjust the space\n",
    "\n",
    "# Remove top and right spines\n",
    "plt.gca().spines['top'].set_visible(False)\n",
    "plt.gca().spines['right'].set_visible(False)\n",
    "# Adjust layout to prevent cropping\n",
    "plt.tight_layout()\n",
    "plt.savefig('D:\\\\Data\\\\EfficientNetB0_accuracy_graph.pdf')  # Save as pdf format\n",
    "plt.show()\n"
   ]
  },
  {
   "cell_type": "markdown",
   "metadata": {
    "id": "b1WeyN2BRkAk"
   },
   "source": [
    "# **Evaluating the model**"
   ]
  },
  {
   "cell_type": "code",
   "execution_count": null,
   "metadata": {
    "colab": {
     "base_uri": "https://localhost:8080/"
    },
    "id": "nphfFmbvG8-x",
    "outputId": "c5c46a8c-6a6f-4eab-bb84-83b918fd5419"
   },
   "outputs": [],
   "source": [
    "# Evaluate the model on the test dataset\n",
    "loss, accuracy = loaded_model.evaluate(test_images, test_numeric_labels)\n",
    "\n",
    "# Print the evaluation metrics (loss and accuracy)\n",
    "print(f\"Test Loss: {loss}\")\n",
    "print(f\"Test Accuracy: {accuracy}\")\n"
   ]
  },
  {
   "cell_type": "markdown",
   "metadata": {
    "id": "9fKz988dRnHp"
   },
   "source": [
    "# **Prediction on Test Dataset**"
   ]
  },
  {
   "cell_type": "code",
   "execution_count": null,
   "metadata": {
    "colab": {
     "base_uri": "https://localhost:8080/"
    },
    "id": "LJOqQUYdHCJb",
    "outputId": "3630dc3b-cf2c-4c6e-dc3a-4641a53aaec9"
   },
   "outputs": [],
   "source": [
    "# Make predictions on the test dataset\n",
    "predictions = loaded_model.predict(test_images)\n",
    "\n",
    "# Get predicted labels (convert from numeric to string labels using inverse mapping)\n",
    "inverse_label_map = {v: k for k, v in label_map.items()}\n",
    "predicted_labels = [inverse_label_map[np.argmax(pred)] for pred in predictions]\n",
    "# Print test and predicted labels\n",
    "for i in range(len(test_labels)):\n",
    "    print(f\"Test Label: {test_labels[i]}, Predicted Label: {predicted_labels[i]}\")\n"
   ]
  },
  {
   "cell_type": "markdown",
   "metadata": {
    "id": "RKMADnD8RBpn"
   },
   "source": [
    "# **Classification Report**"
   ]
  },
  {
   "cell_type": "code",
   "execution_count": null,
   "metadata": {
    "colab": {
     "base_uri": "https://localhost:8080/"
    },
    "id": "jk3zQaFdHCNj",
    "outputId": "304e1c42-b30c-4a6c-c4a0-21e23e9ff716"
   },
   "outputs": [],
   "source": [
    "print(\"\\nClassification Report:\")\n",
    "print(classification_report(test_labels, predicted_labels, digits=4))"
   ]
  },
  {
   "cell_type": "markdown",
   "metadata": {
    "id": "RiAjJKM6Q9j8"
   },
   "source": [
    "# **Evaluation Metrics**"
   ]
  },
  {
   "cell_type": "code",
   "execution_count": null,
   "metadata": {
    "colab": {
     "base_uri": "https://localhost:8080/"
    },
    "id": "IKW7K34cHGpm",
    "outputId": "5636fe5c-8cca-4146-cc5f-a8d485dd425b"
   },
   "outputs": [],
   "source": [
    "from sklearn.metrics import accuracy_score, precision_score, recall_score, f1_score, log_loss, jaccard_score,roc_auc_score\n",
    "\n",
    "# Assuming predicted_probs contains the probabilities for each class\n",
    "\n",
    "predicted_probs = loaded_model.predict(test_images)\n",
    "# Calculate Accuracy\n",
    "accuracy = accuracy_score(test_labels, predicted_labels)\n",
    "print(f\"Accuracy: {accuracy}\")\n",
    "\n",
    "# Calculate Precision, Recall, F1 Score\n",
    "precision = precision_score(test_labels, predicted_labels, average='weighted')\n",
    "print(f\"Precision: {precision}\")\n",
    "\n",
    "recall = recall_score(test_labels, predicted_labels, average='weighted')\n",
    "print(f\"Recall: {recall}\")\n",
    "\n",
    "f1 = f1_score(test_labels, predicted_labels, average='weighted')\n",
    "print(f\"F1 Score: {f1}\")\n",
    "\n",
    "# Calculate Jaccard Score\n",
    "jaccard = jaccard_score(test_labels, predicted_labels, average='weighted')\n",
    "print(f\"Jaccard Score: {jaccard}\")\n",
    "\n",
    "logloss = log_loss(test_numeric_labels, predicted_probs)\n",
    "print(f\"Log Loss: {logloss}\")"
   ]
  },
  {
   "cell_type": "markdown",
   "metadata": {
    "id": "B7iMnAKc3H_U"
   },
   "source": [
    "# **ROC AUC Score**"
   ]
  },
  {
   "cell_type": "code",
   "execution_count": null,
   "metadata": {
    "colab": {
     "base_uri": "https://localhost:8080/"
    },
    "id": "Q6aNu3zdUd0F",
    "outputId": "97ae19a6-7fac-4cba-b780-a9e1ab9469b0"
   },
   "outputs": [],
   "source": [
    "from sklearn.preprocessing import LabelEncoder\n",
    "\n",
    "# Initialize LabelEncoder\n",
    "label_encoder = LabelEncoder()\n",
    "\n",
    "# Encode string labels ('A', 'D', 'G', 'N') to numeric labels\n",
    "numeric_test_labels = label_encoder.fit_transform(test_labels)\n",
    "\n",
    "# Calculate ROC AUC score using One-vs-Rest (ovr) strategy\n",
    "roc_auc_ovr = roc_auc_score(numeric_test_labels, predicted_probs, multi_class='ovr')\n",
    "print(f\"ROC AUC Score (One-vs-Rest): {roc_auc_ovr}\")\n",
    "\n",
    "# Calculate ROC AUC score using One-vs-One (ovo) strategy\n",
    "roc_auc_ovo = roc_auc_score(numeric_test_labels, predicted_probs, multi_class='ovo')\n",
    "print(f\"ROC AUC Score (One-vs-One): {roc_auc_ovo}\")\n"
   ]
  },
  {
   "cell_type": "markdown",
   "metadata": {
    "id": "5bI1tkdMQ6Wq"
   },
   "source": [
    "# **Confusion Matrix**"
   ]
  },
  {
   "cell_type": "code",
   "execution_count": null,
   "metadata": {
    "colab": {
     "base_uri": "https://localhost:8080/",
     "height": 448
    },
    "id": "pHkVbDUBHGty",
    "outputId": "21a3d02f-6154-4ee4-b665-56d4fdad5bae"
   },
   "outputs": [],
   "source": [
    "from sklearn.metrics import confusion_matrix, accuracy_score\n",
    "import seaborn as sns\n",
    "import matplotlib.pyplot as plt\n",
    "\n",
    "# Generate confusion matrix\n",
    "conf_matrix = confusion_matrix(test_labels, predicted_labels)\n",
    "\n",
    "# Calculate accuracy\n",
    "accuracy = accuracy_score(test_labels, predicted_labels)\n",
    "accuracy_percentage = accuracy * 100\n",
    "\n",
    "# Plot confusion matrix\n",
    "plt.figure(figsize=(5, 4))\n",
    "# Define the custom palette\n",
    "custom_palette = sns.light_palette(\"seagreen\", as_cmap=True)\n",
    "# Define custom font dictionary for title and labels\n",
    "font = {'family': 'Serif', 'weight': 'bold', 'size': 12}\n",
    "font2 = {'family': 'Serif', 'weight': 'bold', 'size': 10}\n",
    "\n",
    "# Create heatmap with annotations and colormap\n",
    "heatmap = sns.heatmap(conf_matrix, annot=True, fmt='d', cmap=custom_palette,\n",
    "                      xticklabels=['A', 'D', 'G', 'N'], yticklabels=['A', 'D', 'G', 'N'],\n",
    "                      annot_kws={\"family\": \"Serif\", 'color':'black','weight': 'bold', 'size': 13})\n",
    "\n",
    "# Set x and y labels with the custom font dictionary\n",
    "heatmap.set_xlabel('Predicted Labels', fontdict=font2)\n",
    "heatmap.set_ylabel('Target Labels', fontdict=font2)\n",
    "heatmap.set_title('Fundus Image Classification\\nAccuracy: {:.2f}%'.format(accuracy_percentage),\n",
    "                  fontdict=font, pad=12)\n",
    "\n",
    "# Set font properties for tick labels on both axes\n",
    "heatmap.set_xticklabels(heatmap.get_xticklabels(), fontname='Serif', fontsize=12)\n",
    "heatmap.set_yticklabels(heatmap.get_yticklabels(), fontname='Serif', fontsize=12)\n",
    "\n",
    "# Create a color bar to indicate the scale\n",
    "cbar = heatmap.collections[0].colorbar\n",
    "cbar.ax.tick_params(labelsize=10)\n",
    "# Adjust padding between x-axis label and x-axis ticks\n",
    "plt.gca().xaxis.labelpad = 10  # Change the value as needed to adjust the space\n",
    "# Adjust layout to prevent cropping\n",
    "plt.tight_layout()\n",
    "plt.savefig('D:\\Data\\\\fundus_graphs\\\\EfficientNetB0_confusion_matrix.pdf')  # Save as pdf format\n",
    "plt.show()\n"
   ]
  },
  {
   "cell_type": "markdown",
   "metadata": {
    "id": "LTmgdQ89Y8Cm"
   },
   "source": [
    "# **No. 1 : Explainable AI (GradCAM)**"
   ]
  },
  {
   "cell_type": "markdown",
   "metadata": {
    "id": "ad3BsMaAY_Wt"
   },
   "source": [
    "* Step 1: Prepare the Model (We've done it already)\n",
    "* Step 2: Load and Preprocess an Image (We'll need an image to visualize the Grad-CAM heatmap)\n",
    "* Step 3: Get the Class Activation Map (CAM) (We'll create a function to generate the Grad-CAM heatmap using the model we've built)"
   ]
  },
  {
   "cell_type": "markdown",
   "metadata": {
    "id": "9NpMw3loZK6J"
   },
   "source": [
    "# **Function for displaying Original and GradCAM images**"
   ]
  },
  {
   "cell_type": "code",
   "execution_count": null,
   "metadata": {
    "id": "pcFmHiHvU90G"
   },
   "outputs": [],
   "source": [
    "# Function to save and display GradCAM\n",
    "def save_and_display_gradcam(img_path, heatmap, alpha=0.7):\n",
    "    # Load the original image\n",
    "    img = cv2.imread(img_path)\n",
    "    img = cv2.resize(img, (224, 224))  # Resize image to match model input size\n",
    "\n",
    "    # Resize heatmap to match the image dimensions\n",
    "    heatmap = cv2.resize(heatmap, (img.shape[1], img.shape[0]))\n",
    "\n",
    "    # Rescale heatmap to a range 0-255\n",
    "    heatmap = np.uint8(255 * heatmap)\n",
    "    heatmap = cv2.applyColorMap(heatmap, cv2.COLORMAP_JET)\n",
    "\n",
    "    # Apply heatmap on the original image\n",
    "    superimposed_img = cv2.addWeighted(heatmap, alpha, img, 1 - alpha, 0)\n",
    "\n",
    "    # Display the GradCAM visualization using Matplotlib\n",
    "    plt.figure(figsize=(3, 3))\n",
    "    plt.imshow(cv2.cvtColor(superimposed_img, cv2.COLOR_BGR2RGB))\n",
    "    plt.title('GradCAM', fontdict={'family': 'Serif', 'weight': 'bold', 'size': 12})\n",
    "    plt.axis('off')\n",
    "    plt.tight_layout()\n",
    "    # Save the figure\n",
    "    plt.savefig('D:\\Data\\\\fundus_graphs\\\\efficientB0_gradcam.pdf')  # Save as pdf format\n",
    "    plt.show()\n",
    "\n"
   ]
  },
  {
   "cell_type": "markdown",
   "metadata": {
    "id": "6u5jFr8RZQZj"
   },
   "source": [
    "# **GradCAM function**"
   ]
  },
  {
   "cell_type": "markdown",
   "metadata": {
    "id": "rA_WEeNKZU3F"
   },
   "source": [
    " **Gradient Calculation:** Using these activations, GradCAM computes the gradients of the predicted class's score with respect to the feature maps. These gradients indicate the importance of each feature map in determining the final class prediction.\n",
    "\n",
    "**Global Average Pooling (GAP):** GradCAM takes the gradients and performs Global Average Pooling (GAP) across the spatial dimensions of each feature map. This step generates a weight for each feature map, reflecting its relevance to the predicted class.\n",
    "\n",
    "**Weighted Combination:** GradCAM computes a weighted combination of the feature maps based on their importance weights obtained from GAP. This combination highlights the regions in the feature maps that strongly influence the predicted class.\n",
    "\n",
    "**Heatmap Generation:** The weighted combination produces a heatmap by overlaying these selected regions back onto the input image. The heatmap visually demonstrates which parts of the image are pivotal in the model's decision-making for the predicted class."
   ]
  },
  {
   "cell_type": "code",
   "execution_count": null,
   "metadata": {
    "id": "mnjkshajVE0p"
   },
   "outputs": [],
   "source": [
    "def make_gradcam_heatmap(img_array, model, last_conv_layer_name, pred_index=None):\n",
    "\n",
    "    model.layers[-1].activation = None\n",
    "    grad_model = tf.keras.models.Model(\n",
    "        [model.inputs], [model.get_layer(last_conv_layer_name).output, model.output]\n",
    "    )\n",
    "\n",
    "    with tf.GradientTape() as tape:\n",
    "        last_conv_layer_output, preds = grad_model(img_array)\n",
    "        if pred_index is None:\n",
    "            pred_index = tf.argmax(preds[0])\n",
    "        class_channel = preds[:, pred_index]\n",
    "\n",
    "    grads = tape.gradient(class_channel, last_conv_layer_output)\n",
    "    pooled_grads = tf.reduce_mean(grads, axis=(0, 1, 2))\n",
    "    last_conv_layer_output = last_conv_layer_output[0]\n",
    "    heatmap = last_conv_layer_output @ pooled_grads[..., tf.newaxis]\n",
    "    heatmap = tf.squeeze(heatmap)\n",
    "    heatmap = tf.maximum(heatmap, 0) / tf.math.reduce_max(heatmap)\n",
    "    return heatmap.numpy()\n",
    "\n"
   ]
  },
  {
   "cell_type": "markdown",
   "metadata": {
    "id": "EEMoeKk6ZeAQ"
   },
   "source": [
    "# **Visualization of Grad-Cam**"
   ]
  },
  {
   "cell_type": "code",
   "execution_count": null,
   "metadata": {
    "colab": {
     "base_uri": "https://localhost:8080/",
     "height": 307
    },
    "id": "XkMMdFBoVGrx",
    "outputId": "b538b9ae-5c20-4def-cefd-53c3bb2a0885"
   },
   "outputs": [],
   "source": [
    " # make a prediction and visualize grad-cam\n",
    "def make_prediction_and_visualize_():\n",
    "    img_path = 'D:\\\\Data\\\\fundus\\\\train\\\\Original\\\\150_A.png'\n",
    "\n",
    "    img = cv2.imread(img_path)\n",
    "    img = cv2.resize(img, (224, 224)) #IMG_WIDTH, IMG_HEIGHT\n",
    "    rescaled_img = img/255.0\n",
    "    batch_pred = np.expand_dims(rescaled_img, 0)\n",
    "\n",
    "\n",
    "    last_conv_layer_name = 'top_conv'\n",
    "\n",
    "    # Generate class activation heatmap\n",
    "    heatmap = make_gradcam_heatmap(batch_pred, loaded_model, last_conv_layer_name)\n",
    "\n",
    "    save_and_display_gradcam(img_path, heatmap)\n",
    "\n",
    "\n",
    "make_prediction_and_visualize_()"
   ]
  },
  {
   "cell_type": "markdown",
   "metadata": {
    "id": "Kc3o68fyZkTj"
   },
   "source": [
    "# **No. 2 : Explainable AI (GradCAM++)**\n",
    "\n"
   ]
  },
  {
   "cell_type": "markdown",
   "metadata": {
    "id": "hw8llcdLZmDE"
   },
   "source": [
    "* Step 1: Prepare the Model (We've done it already)\n",
    "* Step 2: Load and Preprocess an Image (We'll need an image to visualize the Grad-CAM++ heatmap)\n",
    "* Step 3: Get the Class Activation Map (CAM) (We'll create a function to generate the Grad-CAM++ heatmap using the model we've built)"
   ]
  },
  {
   "cell_type": "markdown",
   "metadata": {
    "id": "Fpql0I7SbnhQ"
   },
   "source": [
    "# **Function for displaying Original and GradCAM++ images**"
   ]
  },
  {
   "cell_type": "code",
   "execution_count": null,
   "metadata": {
    "id": "hya2TbRZZfuy"
   },
   "outputs": [],
   "source": [
    "# Function to save and display ScoreCAM\n",
    "def save_and_display_gradcam_plusplus(img_path, heatmap, alpha=0.7):\n",
    "    # Load the original image\n",
    "    img = cv2.imread(img_path)\n",
    "    img = cv2.resize(img, (224, 224))  # Resize image to match model input size\n",
    "\n",
    "    # Resize heatmap to match the image dimensions\n",
    "    heatmap = cv2.resize(heatmap, (img.shape[1], img.shape[0]))\n",
    "\n",
    "    # Rescale heatmap to a range 0-255\n",
    "    heatmap = np.uint8(255 * heatmap)\n",
    "    heatmap = cv2.applyColorMap(heatmap, cv2.COLORMAP_JET)\n",
    "\n",
    "    # Apply heatmap on the original image\n",
    "    superimposed_img = cv2.addWeighted(heatmap, alpha, img, 1 - alpha, 0)\n",
    "\n",
    "    # Display the GradCAM visualization using Matplotlib\n",
    "    plt.figure(figsize=(3, 3))\n",
    "    plt.imshow(cv2.cvtColor(superimposed_img, cv2.COLOR_BGR2RGB))\n",
    "    plt.title('GradCAM++', fontdict={'family': 'Serif', 'weight': 'bold', 'size': 12})\n",
    "    plt.axis('off')\n",
    "    plt.tight_layout()\n",
    "    # Save the figure\n",
    "    plt.savefig('D:\\Data\\\\fundus_graphs\\\\efficientB0__gradcam_plusplus.pdf')  # Save as pdf format\n",
    "    plt.show()\n",
    "\n"
   ]
  },
  {
   "cell_type": "markdown",
   "metadata": {
    "id": "rCrxDW3WZ8gO"
   },
   "source": [
    "# **GradCAM++ function**"
   ]
  },
  {
   "cell_type": "markdown",
   "metadata": {
    "id": "vIWSt123Z_Sa"
   },
   "source": [
    "* **Gradient Computation:** Derive gradients between predicted class and conv layer's output, indicating feature map importance.\n",
    "* **Positive and Negative Gradients:** Split gradients into positive (activating) and negative (inhibiting) parts, signifying influential and counteractive regions.\n",
    "* **Weighting and Aggregation:** Calculate separate importance weights from positive and negative gradients, combining them to determine feature map significance.\n",
    "* **Weighted Sum and Heatmap:** Blend positive and negative weights to generate a weighted sum, utilized for heatmap creation, pinpointing significant regions contributing to the predicted class."
   ]
  },
  {
   "cell_type": "code",
   "execution_count": null,
   "metadata": {
    "id": "0VNgCGh7ZvpK"
   },
   "outputs": [],
   "source": [
    "# Function to generate GradCAM++ heatmap\n",
    "def make_gradcam_plusplus_heatmap(img_array, model, last_conv_layer_name, pred_index=None):\n",
    "    model.layers[-1].activation = None\n",
    "    grad_model = tf.keras.models.Model(\n",
    "        [model.inputs], [model.get_layer(last_conv_layer_name).output, model.output]\n",
    "    )\n",
    "\n",
    "    with tf.GradientTape() as tape:\n",
    "        last_conv_layer_output, preds = grad_model(img_array)\n",
    "        if pred_index is None:\n",
    "            pred_index = tf.argmax(preds[0])\n",
    "        class_output = preds[:, pred_index]\n",
    "        conv_output = last_conv_layer_output[0]\n",
    "\n",
    "    # Get gradients\n",
    "    grads = tape.gradient(class_output, last_conv_layer_output)\n",
    "    pooled_grads = tf.reduce_mean(grads[0], axis=(0, 1, 2))\n",
    "    last_conv_layer_output = last_conv_layer_output[0]\n",
    "\n",
    "    # Calculate guided gradients\n",
    "    guided_grads = tf.cast(last_conv_layer_output > 0, 'float32') * grads[0]\n",
    "\n",
    "    # Calculate importance weights\n",
    "    weights = tf.reduce_mean(guided_grads, axis=(0, 1))\n",
    "\n",
    "    # Generate heatmap\n",
    "    heatmap = tf.reduce_sum(tf.multiply(weights, last_conv_layer_output), axis=-1)\n",
    "    heatmap = tf.maximum(heatmap, 0) / tf.reduce_max(heatmap)  # Normalize\n",
    "\n",
    "    return heatmap.numpy()\n"
   ]
  },
  {
   "cell_type": "markdown",
   "metadata": {
    "id": "lX8Y8tXPaEKs"
   },
   "source": [
    "# **Visualization of Grad-Cam++**"
   ]
  },
  {
   "cell_type": "code",
   "execution_count": null,
   "metadata": {
    "colab": {
     "base_uri": "https://localhost:8080/",
     "height": 307
    },
    "id": "4VtFsuXkZy-y",
    "outputId": "0ee53289-b4a3-483c-b9e5-c31d42fbc2b6"
   },
   "outputs": [],
   "source": [
    "# Function to make a prediction and visualize GradCAM++\n",
    "def make_prediction_and_visualize_gradcam_plusplus():\n",
    "    img_path = 'D:\\\\Data\\\\fundus\\\\train\\\\Original\\\\150_A.png'\n",
    "\n",
    "\n",
    "    img = cv2.imread(img_path)\n",
    "    img = cv2.resize(img, (224, 224))  # Resize image to match model input size\n",
    "    rescaled_img = img / 255.0\n",
    "    batch_pred = np.expand_dims(rescaled_img, 0)\n",
    "\n",
    "    last_conv_layer_name = 'top_conv'\n",
    "\n",
    "    # Generate GradCAM++ heatmap\n",
    "    heatmap = make_gradcam_plusplus_heatmap(batch_pred, loaded_model, last_conv_layer_name)\n",
    "\n",
    "    save_and_display_gradcam_plusplus(img_path, heatmap)\n",
    "\n",
    "make_prediction_and_visualize_gradcam_plusplus()"
   ]
  },
  {
   "cell_type": "markdown",
   "metadata": {
    "id": "XKL6jPeaI3xS"
   },
   "source": [
    "# **No. 3 : Explainable AI (ScoreCAM)**\n",
    "* Step 1: Prepare the Model (We've done it already)\n",
    "* Step 2: Load and Preprocess an Image (We'll need an image to visualize the Score-CAM heatmap)\n",
    "* Step 3: Get the Class Activation Map (CAM) (We'll create a function to generate the Score-CAM heatmap using the model we've built)\n"
   ]
  },
  {
   "cell_type": "code",
   "execution_count": null,
   "metadata": {
    "id": "wxLdQdlHH3j6"
   },
   "outputs": [],
   "source": [
    "# Function to save and display ScoreCAM\n",
    "def save_and_display_scorecam(img_path, heatmap, alpha=0.5):\n",
    "    # Load the original image\n",
    "    img = cv2.imread(img_path)\n",
    "    img = cv2.resize(img, (224, 224))  # Resize image to match model input size\n",
    "\n",
    "    # Resize heatmap to match the image dimensions\n",
    "    heatmap = cv2.resize(heatmap, (img.shape[1], img.shape[0]))\n",
    "\n",
    "    # Rescale heatmap to a range 0-255\n",
    "    heatmap = np.uint8(255 * heatmap)\n",
    "    heatmap = cv2.applyColorMap(heatmap, cv2.COLORMAP_JET)\n",
    "\n",
    "    # Apply heatmap on the original image\n",
    "    superimposed_img = cv2.addWeighted(heatmap, alpha, img, 1 - alpha, 0)\n",
    "\n",
    "    # Display the GradCAM visualization using Matplotlib\n",
    "    plt.figure(figsize=(3, 3))\n",
    "    plt.imshow(cv2.cvtColor(superimposed_img, cv2.COLOR_BGR2RGB))\n",
    "    plt.title('ScoreCAM', fontdict={'family': 'Serif', 'weight': 'bold', 'size': 12})\n",
    "    plt.axis('off')\n",
    "    plt.tight_layout()\n",
    "    # Save the figure\n",
    "    plt.savefig('D:\\Data\\\\fundus_graphs\\\\efficientB0__scorecam.pdf')  # Save as pdf format\n",
    "    plt.show()\n",
    "\n"
   ]
  },
  {
   "cell_type": "markdown",
   "metadata": {
    "id": "32MhpZVIJQ8y"
   },
   "source": [
    "# **ScoreCAM function**\n",
    "* **Gradient Computation:** Score-CAM calculates the gradients of the predicted class score with respect to the output feature maps, just like Grad-CAM. These gradients provide information about the importance of each feature map in the predicted class's activation.\n",
    "* **Guided Gradients:** Instead of considering positive and negative gradients separately, Score-CAM utilizes guided gradients to focus only on positive gradients, i.e., gradients that have a positive influence on the predicted class. This step enhances the saliency of the significant regions.\n",
    "* **Global Average Pooling (GAP):** Score-CAM performs Global Average Pooling (GAP) across the spatial dimensions of the guided gradients to generate importance weights for each feature map, indicating their relevance to the predicted class.\n",
    "* **Score-weighted Activation Map:** The technique computes a score-weighted activation map by multiplying the weights obtained from GAP with the feature maps and summing across channels. This highlights the regions in the feature maps that contribute the most to the predicted class, emphasizing the most discriminative areas in the input image."
   ]
  },
  {
   "cell_type": "code",
   "execution_count": null,
   "metadata": {
    "id": "batQVkPBH3tP"
   },
   "outputs": [],
   "source": [
    "import tensorflow as tf\n",
    "\n",
    "def make_scorecam_heatmap(img_array, model, last_conv_layer_name, pred_index=None):\n",
    "    model.layers[-1].activation = None\n",
    "    grad_model = tf.keras.models.Model(\n",
    "        [model.inputs], [model.get_layer(last_conv_layer_name).output, model.output]\n",
    "    )\n",
    "\n",
    "    with tf.GradientTape() as tape:\n",
    "        last_conv_layer_output, preds = grad_model(img_array)\n",
    "        if pred_index is None:\n",
    "            pred_index = tf.argmax(preds[0])\n",
    "        class_output = preds[:, pred_index]\n",
    "        conv_output = last_conv_layer_output[0]\n",
    "\n",
    "    # Get the gradients of the predicted class with respect to the output feature map\n",
    "    grads = tape.gradient(class_output, last_conv_layer_output)\n",
    "    guided_grads = tf.cast(grads[0] > 0, 'float32') * grads[0]\n",
    "\n",
    "    # GAP (Global Average Pooling) along the spatial dimensions\n",
    "    weights = tf.reduce_mean(guided_grads, axis=(0, 1))\n",
    "\n",
    "    # Calculate the score-weighted activation map\n",
    "    cam = tf.reduce_sum(tf.multiply(weights, conv_output), axis=-1)\n",
    "    cam = tf.maximum(cam, 0)  # ReLU to ensure non-negativity\n",
    "    cam /= tf.reduce_max(cam)  # Normalize\n",
    "\n",
    "    return cam.numpy()\n"
   ]
  },
  {
   "cell_type": "markdown",
   "metadata": {
    "id": "5ilcUnsxJtoU"
   },
   "source": [
    "# **Visualization of ScoreCam**"
   ]
  },
  {
   "cell_type": "code",
   "execution_count": null,
   "metadata": {
    "colab": {
     "base_uri": "https://localhost:8080/",
     "height": 307
    },
    "id": "3HTEMUWdH31P",
    "outputId": "66732dbe-d3f3-45ba-8544-00c6f0650a5f"
   },
   "outputs": [],
   "source": [
    "# make a prediction and visualize ScoreCAM\n",
    "def make_prediction_and_visualize_scorecam():\n",
    "    img_path = 'D:\\\\Data\\\\fundus\\\\train\\\\Original\\\\150_A.png'\n",
    "\n",
    "\n",
    "    img = cv2.imread(img_path)\n",
    "    img = cv2.resize(img, (224, 224)) #IMG_WIDTH, IMG_HEIGHT\n",
    "    rescaled_img = img/255.0\n",
    "    batch_pred = np.expand_dims(rescaled_img, 0)\n",
    "\n",
    "    last_conv_layer_name = 'top_conv'\n",
    "\n",
    "    # Generate class activation heatmap\n",
    "    heatmap = make_scorecam_heatmap(batch_pred, loaded_model, last_conv_layer_name)\n",
    "\n",
    "    save_and_display_scorecam(img_path, heatmap)\n",
    "\n",
    "make_prediction_and_visualize_scorecam()\n"
   ]
  },
  {
   "cell_type": "markdown",
   "metadata": {
    "id": "Ol-8tq7tKcAf"
   },
   "source": [
    "# **No. 4 : Explainable AI (Faster Score-CAM)**\n",
    "* step 1: Prepare the Model (We've done it already)\n",
    "* Step 2: Load and Preprocess an Image (We'll need an image to visualize the Faster Score-CAM heatmap)\n",
    "* Step 3: Get the Class Activation Map (CAM) (We'll create a function to generate the Faster Score-CAM heatmap using the model we've built)\n"
   ]
  },
  {
   "cell_type": "markdown",
   "metadata": {
    "id": "AlpHLH1QKp2w"
   },
   "source": [
    "# **Function for displaying Original and Faster ScoreCAM images**"
   ]
  },
  {
   "cell_type": "code",
   "execution_count": null,
   "metadata": {
    "id": "M0oBHVsWKbEN"
   },
   "outputs": [],
   "source": [
    "# Function to save and display Faster ScoreCAM\n",
    "def save_and_display_faster_scorecam(img_path, heatmap, alpha=0.7):\n",
    "    # Load the original image\n",
    "    img = cv2.imread(img_path)\n",
    "    img = cv2.resize(img, (224, 224))  # Resize image to match model input size\n",
    "\n",
    "    # Resize heatmap to match the image dimensions\n",
    "    heatmap = cv2.resize(heatmap, (img.shape[1], img.shape[0]))\n",
    "\n",
    "    # Rescale heatmap to a range 0-255\n",
    "    heatmap = np.uint8(255 * heatmap)\n",
    "    heatmap = cv2.applyColorMap(heatmap, cv2.COLORMAP_JET)\n",
    "\n",
    "    # Apply heatmap on the original image\n",
    "    superimposed_img = cv2.addWeighted(heatmap, alpha, img, 1 - alpha, 0)\n",
    "\n",
    "    # Display the GradCAM visualization using Matplotlib\n",
    "    plt.figure(figsize=(3, 3))\n",
    "    plt.imshow(cv2.cvtColor(superimposed_img, cv2.COLOR_BGR2RGB))\n",
    "    plt.title('Faster ScoreCAM', fontdict={'family': 'Serif', 'weight': 'bold', 'size': 12})\n",
    "    plt.axis('off')\n",
    "    plt.tight_layout()\n",
    "    # Save the figure\n",
    "    plt.savefig('D:\\Data\\\\fundus_graphs\\\\efficientB0__faster_scorecam.pdf')  # Save as pdf format\n",
    "    plt.show()\n",
    "\n"
   ]
  },
  {
   "cell_type": "markdown",
   "metadata": {
    "id": "gFGQRNBHdpJt"
   },
   "source": [
    "# **Faster ScoreCAM function**"
   ]
  },
  {
   "cell_type": "markdown",
   "metadata": {
    "id": "qvNc_TnPdlfs"
   },
   "source": [
    "* **Gradient Calculation:** Using a GradientTape, it computes the gradients of the predicted class output with respect to the output feature map of the specified last convolutional layer.\n",
    "\n",
    "* **Global Average Pooling (GAP):** The gradients obtained are subjected to Global Average Pooling (GAP) along the spatial dimensions, resulting in weights representing the importance of each feature map in the predicted class's activation.\n",
    "\n",
    "* **Weighted Sum Calculation:** Reshaping the obtained weights and the convolutional output, the function performs matrix multiplication between them, efficiently obtaining a score-weighted activation map that highlights significant regions related to the predicted class.\n",
    "\n",
    "* **Normalization and ReLU:** The resulting score-weighted activation map is normalized and subjected to ReLU (Rectified Linear Unit) activation, ensuring non-negativity and scaling to highlight the most influential regions."
   ]
  },
  {
   "cell_type": "code",
   "execution_count": null,
   "metadata": {
    "id": "cCkbuSLUdPJt"
   },
   "outputs": [],
   "source": [
    "def faster_scorecam_heatmap(img_array, model, last_conv_layer_name, pred_index=None):\n",
    "    model.layers[-1].activation = None\n",
    "    grad_model = tf.keras.models.Model(\n",
    "        [model.inputs], [model.get_layer(last_conv_layer_name).output, model.output]\n",
    "    )\n",
    "\n",
    "    with tf.GradientTape() as tape:\n",
    "        last_conv_layer_output, preds = grad_model(img_array)\n",
    "        if pred_index is None:\n",
    "            pred_index = tf.argmax(preds[0])\n",
    "        class_output = preds[:, pred_index]\n",
    "        conv_output = last_conv_layer_output[0]\n",
    "\n",
    "    # Get the gradient of the predicted class with respect to the output feature map\n",
    "    grads = tape.gradient(class_output, last_conv_layer_output)[0]\n",
    "\n",
    "    # Global average pooling (GAP) to compute weights\n",
    "    weights = tf.reduce_mean(grads, axis=(0, 1))\n",
    "\n",
    "    # Reshape the weights to perform matrix multiplication with the convolutional output\n",
    "    weights = tf.reshape(weights, (1, 1, -1))\n",
    "\n",
    "    # Reshape conv_output to match the dimensions for matrix multiplication\n",
    "    conv_output = tf.expand_dims(conv_output, axis=0)\n",
    "    conv_output = tf.expand_dims(conv_output, axis=-1)  # Add a new dimension for matrix multiplication\n",
    "\n",
    "    # Calculate the score-weighted activation map efficiently\n",
    "    cam = tf.matmul(weights, conv_output)\n",
    "    cam = tf.squeeze(cam)\n",
    "    cam = tf.maximum(cam, 0)  # ReLU to ensure non-negativity\n",
    "    cam /= tf.reduce_max(cam)  # Normalize\n",
    "\n",
    "    return cam.numpy()\n"
   ]
  },
  {
   "cell_type": "markdown",
   "metadata": {
    "id": "0I2xd96Adh_q"
   },
   "source": [
    "# **Visualization of faster ScoreCam**"
   ]
  },
  {
   "cell_type": "code",
   "execution_count": null,
   "metadata": {
    "colab": {
     "base_uri": "https://localhost:8080/",
     "height": 307
    },
    "id": "nC0pd3fEdPN2",
    "outputId": "54fa35f5-ca26-44ba-ef65-f0e8e93eb6b4"
   },
   "outputs": [],
   "source": [
    "# make a prediction and visualize Faster ScoreCAM\n",
    "def make_prediction_and_visualize_faster_scorecam():\n",
    "    img_path = 'D:\\\\Data\\\\fundus\\\\train\\\\Original\\\\150_A.png'\n",
    "\n",
    "\n",
    "    img = cv2.imread(img_path)\n",
    "    img = cv2.resize(img, (224, 224)) #IMG_WIDTH, IMG_HEIGHT\n",
    "    rescaled_img = img/255.0\n",
    "    batch_pred = np.expand_dims(rescaled_img, 0)\n",
    "\n",
    "    last_conv_layer_name = 'top_conv'\n",
    "\n",
    "    # Generate class activation heatmap\n",
    "    heatmap = faster_scorecam_heatmap(batch_pred, loaded_model, last_conv_layer_name)\n",
    "\n",
    "    save_and_display_faster_scorecam(img_path, heatmap)\n",
    "\n",
    "make_prediction_and_visualize_faster_scorecam()\n"
   ]
  },
  {
   "cell_type": "markdown",
   "metadata": {
    "id": "MpvJmYOPe_e-"
   },
   "source": [
    "# **No. 5 : Explainable AI (LayerCAM)**\n",
    "\n",
    "* Step 1: Prepare the Model (We've done it already)\n",
    "* Step 2: Load and Preprocess an Image (We'll need an image to visualize the LayerCAM heatmap)\n",
    "* Step 3: Get the Class Activation Map (CAM) (We'll create a function to generate the LayerCAM heatmap using the model we've built)"
   ]
  },
  {
   "cell_type": "markdown",
   "metadata": {
    "id": "lnvSkNNZfdBh"
   },
   "source": [
    "# **Function for displaying Original and LayerCAM images**"
   ]
  },
  {
   "cell_type": "code",
   "execution_count": null,
   "metadata": {
    "id": "y_NOBIg4dde6"
   },
   "outputs": [],
   "source": [
    "# Function to save and display layercam\n",
    "def save_and_display_layercam(img_path, heatmap, alpha=0.7):\n",
    "    # Load the original image\n",
    "    img = cv2.imread(img_path)\n",
    "    img = cv2.resize(img, (224, 224))  # Resize image to match model input size\n",
    "\n",
    "    # Resize heatmap to match the image dimensions\n",
    "    heatmap = cv2.resize(heatmap, (img.shape[1], img.shape[0]))\n",
    "\n",
    "    # Rescale heatmap to a range 0-255\n",
    "    heatmap = np.uint8(255 * heatmap)\n",
    "    heatmap = cv2.applyColorMap(heatmap, cv2.COLORMAP_JET)\n",
    "\n",
    "    # Apply heatmap on the original image\n",
    "    superimposed_img = cv2.addWeighted(heatmap, alpha, img, 1 - alpha, 0)\n",
    "\n",
    "    # Display the GradCAM visualization using Matplotlib\n",
    "    plt.figure(figsize=(3, 3))\n",
    "    plt.imshow(cv2.cvtColor(superimposed_img, cv2.COLOR_BGR2RGB))\n",
    "    plt.title('LayerCAM', fontdict={'family': 'Serif', 'weight': 'bold', 'size': 12})\n",
    "    plt.axis('off')\n",
    "    plt.tight_layout()\n",
    "    # Save the figure\n",
    "    plt.savefig('D:\\Data\\\\fundus_graphs\\\\efficientB0_layercam.pdf')  # Save as pdf format\n",
    "    plt.show()\n",
    "\n"
   ]
  },
  {
   "cell_type": "markdown",
   "metadata": {
    "id": "05jcCWvGfh8k"
   },
   "source": [
    "# **LayerCAM function**"
   ]
  },
  {
   "cell_type": "markdown",
   "metadata": {
    "id": "9ygusn3cfkvf"
   },
   "source": [
    "* **Gradient Calculation:** Utilize a gradient tape to compute gradients of the predicted class score with respect to the output feature maps obtained from the chosen layer.\n",
    "\n",
    "* **Global Average Pooling (GAP):** Perform Global Average Pooling across the spatial dimensions of the gradients to generate importance weights for each feature map.\n",
    "\n",
    "* **Weight Reshaping:** Reshape the obtained weights to fit the required dimensions for subsequent matrix multiplication.\n",
    "\n",
    "* **Activation Map Computation:** Compute a score-weighted activation map by performing a matrix multiplication between the reshaped weights and the output feature maps from the chosen layer.\n",
    "\n",
    "* **Activation Map Adjustment:** Apply Rectified Linear Unit (ReLU) to ensure non-negativity in the heatmap.\n",
    "\n",
    "* **Normalization:** Normalize the heatmap to ensure that the values fall within a certain range, often between 0 and 1, which aids in visualization."
   ]
  },
  {
   "cell_type": "code",
   "execution_count": null,
   "metadata": {
    "id": "e8ff6eW1faSr"
   },
   "outputs": [],
   "source": [
    "import tensorflow as tf\n",
    "\n",
    "def generate_layercam_heatmap(img_array, model, last_conv_layer_name, target_class_index=None):\n",
    "    model.layers[-1].activation = None\n",
    "    grad_model = tf.keras.models.Model(\n",
    "        [model.inputs], [model.get_layer(last_conv_layer_name).output, model.output]\n",
    "    )\n",
    "\n",
    "    with tf.GradientTape() as tape:\n",
    "        last_conv_layer_output, preds = grad_model(img_array)\n",
    "        if target_class_index is None:\n",
    "            target_class_index = tf.argmax(preds[0])\n",
    "        class_output = preds[:, target_class_index]\n",
    "        conv_output = last_conv_layer_output[0]\n",
    "\n",
    "    # Calculate gradients of the predicted class with respect to the output feature map\n",
    "    grads = tape.gradient(class_output, last_conv_layer_output)[0]\n",
    "\n",
    "    # Global average pooling (GAP) to compute weights\n",
    "    weights = tf.reduce_mean(grads, axis=(0, 1))\n",
    "\n",
    "    # Reshape the weights to perform matrix multiplication with the convolutional output\n",
    "    weights = tf.reshape(weights, (1, 1, -1))\n",
    "\n",
    "    # Expand dimensions of conv_output for matrix multiplication\n",
    "    conv_output = tf.expand_dims(conv_output, axis=0)\n",
    "    conv_output = tf.expand_dims(conv_output, axis=-1)  # Add a new dimension for matrix multiplication\n",
    "\n",
    "    # Calculate the score-weighted activation map (LayerCAM)\n",
    "    cam = tf.matmul(weights, conv_output)\n",
    "    cam = tf.squeeze(cam)\n",
    "    cam = tf.maximum(cam, 0)  # ReLU to ensure non-negativity\n",
    "    cam /= tf.reduce_max(cam)  # Normalize\n",
    "\n",
    "    return cam.numpy()\n"
   ]
  },
  {
   "cell_type": "markdown",
   "metadata": {
    "id": "_t01JveMfVJX"
   },
   "source": [
    "# **Visualization of LayerCAM**"
   ]
  },
  {
   "cell_type": "code",
   "execution_count": null,
   "metadata": {
    "colab": {
     "base_uri": "https://localhost:8080/",
     "height": 307
    },
    "id": "tseE-1RHddoc",
    "outputId": "a1f065e9-7e79-4287-8f21-e0701cee2c03"
   },
   "outputs": [],
   "source": [
    "# make a prediction and visualize layercam\n",
    "def make_prediction_and_visualize_layercam():\n",
    "    img_path = img_path = 'D:\\\\Data\\\\fundus\\\\train\\\\Original\\\\150_A.png'\n",
    "\n",
    "    img = cv2.imread(img_path)\n",
    "    img = cv2.resize(img, (224, 224))#IMG_WIDTH, IMG_HEIGHT\n",
    "    rescaled_img = img/255.0\n",
    "    batch_pred = np.expand_dims(rescaled_img, 0)\n",
    "\n",
    "    last_conv_layer_name = 'top_conv'\n",
    "\n",
    "    # Generate class activation heatmap\n",
    "    heatmap = generate_layercam_heatmap(batch_pred, loaded_model, last_conv_layer_name)\n",
    "\n",
    "    save_and_display_layercam(img_path, heatmap)\n",
    "\n",
    "\n",
    "make_prediction_and_visualize_layercam()"
   ]
  },
  {
   "cell_type": "code",
   "execution_count": null,
   "metadata": {},
   "outputs": [],
   "source": []
  }
 ],
 "metadata": {
  "accelerator": "GPU",
  "colab": {
   "gpuType": "T4",
   "provenance": []
  },
  "kernelspec": {
   "display_name": "Python [conda env:base] *",
   "language": "python",
   "name": "conda-base-py"
  },
  "language_info": {
   "codemirror_mode": {
    "name": "ipython",
    "version": 3
   },
   "file_extension": ".py",
   "mimetype": "text/x-python",
   "name": "python",
   "nbconvert_exporter": "python",
   "pygments_lexer": "ipython3",
   "version": "3.12.7"
  }
 },
 "nbformat": 4,
 "nbformat_minor": 4
}
